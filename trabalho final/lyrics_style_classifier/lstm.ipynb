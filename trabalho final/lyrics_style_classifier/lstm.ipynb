{
  "nbformat": 4,
  "nbformat_minor": 0,
  "metadata": {
    "colab": {
      "name": "lstm.ipynb",
      "provenance": [],
      "collapsed_sections": [],
      "toc_visible": true
    },
    "kernelspec": {
      "name": "python3",
      "display_name": "Python 3"
    }
  },
  "cells": [
    {
      "cell_type": "code",
      "metadata": {
        "id": "Fa0bWcct5eau",
        "colab_type": "code",
        "outputId": "935b4da8-daec-4a11-db51-06494774336e",
        "colab": {
          "base_uri": "https://localhost:8080/",
          "height": 170
        }
      },
      "source": [
        "import pandas as pd\n",
        "import re\n",
        "import nltk\n",
        "from sklearn.utils import shuffle \n",
        "nltk.download('stopwords')\n",
        "from nltk.corpus import stopwords\n",
        "import random\n",
        "df = pd.read_csv('lyrics.csv')\n",
        "df.info()"
      ],
      "execution_count": 1,
      "outputs": [
        {
          "output_type": "stream",
          "text": [
            "[nltk_data] Downloading package stopwords to /root/nltk_data...\n",
            "[nltk_data]   Unzipping corpora/stopwords.zip.\n",
            "<class 'pandas.core.frame.DataFrame'>\n",
            "RangeIndex: 6281 entries, 0 to 6280\n",
            "Data columns (total 2 columns):\n",
            "lyric    6281 non-null object\n",
            "label    6281 non-null object\n",
            "dtypes: object(2)\n",
            "memory usage: 98.3+ KB\n"
          ],
          "name": "stdout"
        }
      ]
    },
    {
      "cell_type": "code",
      "metadata": {
        "id": "mOmaLvdyMyhw",
        "colab_type": "code",
        "outputId": "2aedda56-da1b-44ac-e0da-a0c1f02bea27",
        "colab": {
          "base_uri": "https://localhost:8080/",
          "height": 641
        }
      },
      "source": [
        "\n",
        "import numpy as np \n",
        "import pandas as pd\n",
        "import matplotlib.pyplot as plt\n",
        "import seaborn as sns\n",
        "from keras import optimizers\n",
        "from keras.preprocessing.text import Tokenizer\n",
        "from keras.preprocessing.sequence import pad_sequences\n",
        "from keras.models import Sequential\n",
        "from keras.layers import Dense, Embedding, LSTM, SpatialDropout1D\n",
        "from sklearn.model_selection import train_test_split\n",
        "from keras.utils.np_utils import to_categorical\n",
        "from keras.callbacks import EarlyStopping\n",
        "from keras.layers import Dropout,GlobalMaxPooling1D\n",
        "import re\n",
        "from nltk.corpus import stopwords\n",
        "from nltk import word_tokenize\n",
        "STOPWORDS = set(stopwords.words('portuguese'))\n",
        "from bs4 import BeautifulSoup\n",
        "import plotly.graph_objs as go\n",
        "import plotly.plotly as py\n",
        "import cufflinks\n",
        "from IPython.core.interactiveshell import InteractiveShell\n",
        "import plotly.figure_factory as ff\n",
        "InteractiveShell.ast_node_interactivity = 'all'\n",
        "from plotly.offline import iplot\n",
        "cufflinks.go_offline()\n",
        "cufflinks.set_config_file(world_readable=True, theme='pearl')\n",
        "from keras.preprocessing import sequence\n",
        "from keras.models import Sequential\n",
        "from keras.layers import Dense, Dropout, Embedding, LSTM, Bidirectional\n"
      ],
      "execution_count": 2,
      "outputs": [
        {
          "output_type": "stream",
          "text": [
            "Using TensorFlow backend.\n"
          ],
          "name": "stderr"
        },
        {
          "output_type": "display_data",
          "data": {
            "text/html": [
              "<p style=\"color: red;\">\n",
              "The default version of TensorFlow in Colab will soon switch to TensorFlow 2.x.<br>\n",
              "We recommend you <a href=\"https://www.tensorflow.org/guide/migrate\" target=\"_blank\">upgrade</a> now \n",
              "or ensure your notebook will continue to use TensorFlow 1.x via the <code>%tensorflow_version 1.x</code> magic:\n",
              "<a href=\"https://colab.research.google.com/notebooks/tensorflow_version.ipynb\" target=\"_blank\">more info</a>.</p>\n"
            ],
            "text/plain": [
              "<IPython.core.display.HTML object>"
            ]
          },
          "metadata": {
            "tags": []
          }
        },
        {
          "output_type": "error",
          "ename": "ImportError",
          "evalue": "ignored",
          "traceback": [
            "\u001b[0;31m---------------------------------------------------------------------------\u001b[0m",
            "\u001b[0;31mImportError\u001b[0m                               Traceback (most recent call last)",
            "\u001b[0;32m<ipython-input-2-dbd3a40e9731>\u001b[0m in \u001b[0;36m<module>\u001b[0;34m()\u001b[0m\n\u001b[1;32m     19\u001b[0m \u001b[0;32mfrom\u001b[0m \u001b[0mbs4\u001b[0m \u001b[0;32mimport\u001b[0m \u001b[0mBeautifulSoup\u001b[0m\u001b[0;34m\u001b[0m\u001b[0;34m\u001b[0m\u001b[0m\n\u001b[1;32m     20\u001b[0m \u001b[0;32mimport\u001b[0m \u001b[0mplotly\u001b[0m\u001b[0;34m.\u001b[0m\u001b[0mgraph_objs\u001b[0m \u001b[0;32mas\u001b[0m \u001b[0mgo\u001b[0m\u001b[0;34m\u001b[0m\u001b[0;34m\u001b[0m\u001b[0m\n\u001b[0;32m---> 21\u001b[0;31m \u001b[0;32mimport\u001b[0m \u001b[0mplotly\u001b[0m\u001b[0;34m.\u001b[0m\u001b[0mplotly\u001b[0m \u001b[0;32mas\u001b[0m \u001b[0mpy\u001b[0m\u001b[0;34m\u001b[0m\u001b[0;34m\u001b[0m\u001b[0m\n\u001b[0m\u001b[1;32m     22\u001b[0m \u001b[0;32mimport\u001b[0m \u001b[0mcufflinks\u001b[0m\u001b[0;34m\u001b[0m\u001b[0;34m\u001b[0m\u001b[0m\n\u001b[1;32m     23\u001b[0m \u001b[0;32mfrom\u001b[0m \u001b[0mIPython\u001b[0m\u001b[0;34m.\u001b[0m\u001b[0mcore\u001b[0m\u001b[0;34m.\u001b[0m\u001b[0minteractiveshell\u001b[0m \u001b[0;32mimport\u001b[0m \u001b[0mInteractiveShell\u001b[0m\u001b[0;34m\u001b[0m\u001b[0;34m\u001b[0m\u001b[0m\n",
            "\u001b[0;32m/usr/local/lib/python3.6/dist-packages/plotly/plotly/__init__.py\u001b[0m in \u001b[0;36m<module>\u001b[0;34m()\u001b[0m\n\u001b[1;32m      2\u001b[0m \u001b[0;32mfrom\u001b[0m \u001b[0m_plotly_future_\u001b[0m \u001b[0;32mimport\u001b[0m \u001b[0m_chart_studio_error\u001b[0m\u001b[0;34m\u001b[0m\u001b[0;34m\u001b[0m\u001b[0m\n\u001b[1;32m      3\u001b[0m \u001b[0;34m\u001b[0m\u001b[0m\n\u001b[0;32m----> 4\u001b[0;31m \u001b[0m_chart_studio_error\u001b[0m\u001b[0;34m(\u001b[0m\u001b[0;34m\"plotly\"\u001b[0m\u001b[0;34m)\u001b[0m\u001b[0;34m\u001b[0m\u001b[0;34m\u001b[0m\u001b[0m\n\u001b[0m",
            "\u001b[0;32m/usr/local/lib/python3.6/dist-packages/_plotly_future_/__init__.py\u001b[0m in \u001b[0;36m_chart_studio_error\u001b[0;34m(submodule)\u001b[0m\n\u001b[1;32m     47\u001b[0m \u001b[0mchart_studio\u001b[0m\u001b[0;34m.\u001b[0m\u001b[0;34m{\u001b[0m\u001b[0msubmodule\u001b[0m\u001b[0;34m}\u001b[0m \u001b[0mmodule\u001b[0m \u001b[0minstead\u001b[0m\u001b[0;34m.\u001b[0m\u001b[0;34m\u001b[0m\u001b[0;34m\u001b[0m\u001b[0m\n\u001b[1;32m     48\u001b[0m \"\"\".format(\n\u001b[0;32m---> 49\u001b[0;31m             \u001b[0msubmodule\u001b[0m\u001b[0;34m=\u001b[0m\u001b[0msubmodule\u001b[0m\u001b[0;34m\u001b[0m\u001b[0;34m\u001b[0m\u001b[0m\n\u001b[0m\u001b[1;32m     50\u001b[0m         )\n\u001b[1;32m     51\u001b[0m     )\n",
            "\u001b[0;31mImportError\u001b[0m: \nThe plotly.plotly module is deprecated,\nplease install the chart-studio package and use the\nchart_studio.plotly module instead. \n",
            "",
            "\u001b[0;31m---------------------------------------------------------------------------\u001b[0;32m\nNOTE: If your import is failing due to a missing package, you can\nmanually install dependencies using either !pip or !apt.\n\nTo view examples of installing some common dependencies, click the\n\"Open Examples\" button below.\n\u001b[0;31m---------------------------------------------------------------------------\u001b[0m\n"
          ]
        }
      ]
    },
    {
      "cell_type": "code",
      "metadata": {
        "id": "UFL1jtDW57T5",
        "colab_type": "code",
        "outputId": "180a2c83-14c0-464c-94da-6fdfc32064eb",
        "colab": {
          "base_uri": "https://localhost:8080/",
          "height": 204
        }
      },
      "source": [
        "df.head()"
      ],
      "execution_count": 3,
      "outputs": [
        {
          "output_type": "execute_result",
          "data": {
            "text/html": [
              "<div>\n",
              "<style scoped>\n",
              "    .dataframe tbody tr th:only-of-type {\n",
              "        vertical-align: middle;\n",
              "    }\n",
              "\n",
              "    .dataframe tbody tr th {\n",
              "        vertical-align: top;\n",
              "    }\n",
              "\n",
              "    .dataframe thead th {\n",
              "        text-align: right;\n",
              "    }\n",
              "</style>\n",
              "<table border=\"1\" class=\"dataframe\">\n",
              "  <thead>\n",
              "    <tr style=\"text-align: right;\">\n",
              "      <th></th>\n",
              "      <th>lyric</th>\n",
              "      <th>label</th>\n",
              "    </tr>\n",
              "  </thead>\n",
              "  <tbody>\n",
              "    <tr>\n",
              "      <th>0</th>\n",
              "      <td>Vou dar a volta no mundo eu vou, vou ver o mun...</td>\n",
              "      <td>axe</td>\n",
              "    </tr>\n",
              "    <tr>\n",
              "      <th>1</th>\n",
              "      <td>Nós duas Nós nuas E o nosso amor à toa Na boa ...</td>\n",
              "      <td>axe</td>\n",
              "    </tr>\n",
              "    <tr>\n",
              "      <th>2</th>\n",
              "      <td>Quem sabe nem era pra ser nossa Aquela lua aqu...</td>\n",
              "      <td>axe</td>\n",
              "    </tr>\n",
              "    <tr>\n",
              "      <th>3</th>\n",
              "      <td>Já são cinco da manhã E não dormi quase nada S...</td>\n",
              "      <td>axe</td>\n",
              "    </tr>\n",
              "    <tr>\n",
              "      <th>4</th>\n",
              "      <td>Amor de verdade eu só senti Foi com você meu b...</td>\n",
              "      <td>axe</td>\n",
              "    </tr>\n",
              "  </tbody>\n",
              "</table>\n",
              "</div>"
            ],
            "text/plain": [
              "                                               lyric label\n",
              "0  Vou dar a volta no mundo eu vou, vou ver o mun...   axe\n",
              "1  Nós duas Nós nuas E o nosso amor à toa Na boa ...   axe\n",
              "2  Quem sabe nem era pra ser nossa Aquela lua aqu...   axe\n",
              "3  Já são cinco da manhã E não dormi quase nada S...   axe\n",
              "4  Amor de verdade eu só senti Foi com você meu b...   axe"
            ]
          },
          "metadata": {
            "tags": []
          },
          "execution_count": 3
        }
      ]
    },
    {
      "cell_type": "code",
      "metadata": {
        "id": "plBApeusrTfL",
        "colab_type": "code",
        "outputId": "78c554ef-d612-4c26-8acd-4cf17c36e3a2",
        "colab": {
          "base_uri": "https://localhost:8080/",
          "height": 204
        }
      },
      "source": [
        "pip install langdetect\n"
      ],
      "execution_count": 4,
      "outputs": [
        {
          "output_type": "stream",
          "text": [
            "Collecting langdetect\n",
            "\u001b[?25l  Downloading https://files.pythonhosted.org/packages/59/59/4bc44158a767a6d66de18c4136c8aa90491d56cc951c10b74dd1e13213c9/langdetect-1.0.7.zip (998kB)\n",
            "\r\u001b[K     |▎                               | 10kB 14.8MB/s eta 0:00:01\r\u001b[K     |▋                               | 20kB 7.9MB/s eta 0:00:01\r\u001b[K     |█                               | 30kB 10.7MB/s eta 0:00:01\r\u001b[K     |█▎                              | 40kB 6.6MB/s eta 0:00:01\r\u001b[K     |█▋                              | 51kB 7.8MB/s eta 0:00:01\r\u001b[K     |██                              | 61kB 9.2MB/s eta 0:00:01\r\u001b[K     |██▎                             | 71kB 10.4MB/s eta 0:00:01\r\u001b[K     |██▋                             | 81kB 8.2MB/s eta 0:00:01\r\u001b[K     |███                             | 92kB 9.0MB/s eta 0:00:01\r\u001b[K     |███▎                            | 102kB 9.7MB/s eta 0:00:01\r\u001b[K     |███▋                            | 112kB 9.7MB/s eta 0:00:01\r\u001b[K     |████                            | 122kB 9.7MB/s eta 0:00:01\r\u001b[K     |████▎                           | 133kB 9.7MB/s eta 0:00:01\r\u001b[K     |████▋                           | 143kB 9.7MB/s eta 0:00:01\r\u001b[K     |█████                           | 153kB 9.7MB/s eta 0:00:01\r\u001b[K     |█████▎                          | 163kB 9.7MB/s eta 0:00:01\r\u001b[K     |█████▋                          | 174kB 9.7MB/s eta 0:00:01\r\u001b[K     |██████                          | 184kB 9.7MB/s eta 0:00:01\r\u001b[K     |██████▎                         | 194kB 9.7MB/s eta 0:00:01\r\u001b[K     |██████▋                         | 204kB 9.7MB/s eta 0:00:01\r\u001b[K     |███████                         | 215kB 9.7MB/s eta 0:00:01\r\u001b[K     |███████▎                        | 225kB 9.7MB/s eta 0:00:01\r\u001b[K     |███████▌                        | 235kB 9.7MB/s eta 0:00:01\r\u001b[K     |███████▉                        | 245kB 9.7MB/s eta 0:00:01\r\u001b[K     |████████▏                       | 256kB 9.7MB/s eta 0:00:01\r\u001b[K     |████████▌                       | 266kB 9.7MB/s eta 0:00:01\r\u001b[K     |████████▉                       | 276kB 9.7MB/s eta 0:00:01\r\u001b[K     |█████████▏                      | 286kB 9.7MB/s eta 0:00:01\r\u001b[K     |█████████▌                      | 296kB 9.7MB/s eta 0:00:01\r\u001b[K     |█████████▉                      | 307kB 9.7MB/s eta 0:00:01\r\u001b[K     |██████████▏                     | 317kB 9.7MB/s eta 0:00:01\r\u001b[K     |██████████▌                     | 327kB 9.7MB/s eta 0:00:01\r\u001b[K     |██████████▉                     | 337kB 9.7MB/s eta 0:00:01\r\u001b[K     |███████████▏                    | 348kB 9.7MB/s eta 0:00:01\r\u001b[K     |███████████▌                    | 358kB 9.7MB/s eta 0:00:01\r\u001b[K     |███████████▉                    | 368kB 9.7MB/s eta 0:00:01\r\u001b[K     |████████████▏                   | 378kB 9.7MB/s eta 0:00:01\r\u001b[K     |████████████▌                   | 389kB 9.7MB/s eta 0:00:01\r\u001b[K     |████████████▉                   | 399kB 9.7MB/s eta 0:00:01\r\u001b[K     |█████████████▏                  | 409kB 9.7MB/s eta 0:00:01\r\u001b[K     |█████████████▌                  | 419kB 9.7MB/s eta 0:00:01\r\u001b[K     |█████████████▉                  | 430kB 9.7MB/s eta 0:00:01\r\u001b[K     |██████████████▏                 | 440kB 9.7MB/s eta 0:00:01\r\u001b[K     |██████████████▌                 | 450kB 9.7MB/s eta 0:00:01\r\u001b[K     |██████████████▊                 | 460kB 9.7MB/s eta 0:00:01\r\u001b[K     |███████████████                 | 471kB 9.7MB/s eta 0:00:01\r\u001b[K     |███████████████▍                | 481kB 9.7MB/s eta 0:00:01\r\u001b[K     |███████████████▊                | 491kB 9.7MB/s eta 0:00:01\r\u001b[K     |████████████████                | 501kB 9.7MB/s eta 0:00:01\r\u001b[K     |████████████████▍               | 512kB 9.7MB/s eta 0:00:01\r\u001b[K     |████████████████▊               | 522kB 9.7MB/s eta 0:00:01\r\u001b[K     |█████████████████               | 532kB 9.7MB/s eta 0:00:01\r\u001b[K     |█████████████████▍              | 542kB 9.7MB/s eta 0:00:01\r\u001b[K     |█████████████████▊              | 552kB 9.7MB/s eta 0:00:01\r\u001b[K     |██████████████████              | 563kB 9.7MB/s eta 0:00:01\r\u001b[K     |██████████████████▍             | 573kB 9.7MB/s eta 0:00:01\r\u001b[K     |██████████████████▊             | 583kB 9.7MB/s eta 0:00:01\r\u001b[K     |███████████████████             | 593kB 9.7MB/s eta 0:00:01\r\u001b[K     |███████████████████▍            | 604kB 9.7MB/s eta 0:00:01\r\u001b[K     |███████████████████▊            | 614kB 9.7MB/s eta 0:00:01\r\u001b[K     |████████████████████            | 624kB 9.7MB/s eta 0:00:01\r\u001b[K     |████████████████████▍           | 634kB 9.7MB/s eta 0:00:01\r\u001b[K     |████████████████████▊           | 645kB 9.7MB/s eta 0:00:01\r\u001b[K     |█████████████████████           | 655kB 9.7MB/s eta 0:00:01\r\u001b[K     |█████████████████████▍          | 665kB 9.7MB/s eta 0:00:01\r\u001b[K     |█████████████████████▊          | 675kB 9.7MB/s eta 0:00:01\r\u001b[K     |██████████████████████          | 686kB 9.7MB/s eta 0:00:01\r\u001b[K     |██████████████████████▎         | 696kB 9.7MB/s eta 0:00:01\r\u001b[K     |██████████████████████▋         | 706kB 9.7MB/s eta 0:00:01\r\u001b[K     |███████████████████████         | 716kB 9.7MB/s eta 0:00:01\r\u001b[K     |███████████████████████▎        | 727kB 9.7MB/s eta 0:00:01\r\u001b[K     |███████████████████████▋        | 737kB 9.7MB/s eta 0:00:01\r\u001b[K     |████████████████████████        | 747kB 9.7MB/s eta 0:00:01\r\u001b[K     |████████████████████████▎       | 757kB 9.7MB/s eta 0:00:01\r\u001b[K     |████████████████████████▋       | 768kB 9.7MB/s eta 0:00:01\r\u001b[K     |█████████████████████████       | 778kB 9.7MB/s eta 0:00:01\r\u001b[K     |█████████████████████████▎      | 788kB 9.7MB/s eta 0:00:01\r\u001b[K     |█████████████████████████▋      | 798kB 9.7MB/s eta 0:00:01\r\u001b[K     |██████████████████████████      | 808kB 9.7MB/s eta 0:00:01\r\u001b[K     |██████████████████████████▎     | 819kB 9.7MB/s eta 0:00:01\r\u001b[K     |██████████████████████████▋     | 829kB 9.7MB/s eta 0:00:01\r\u001b[K     |███████████████████████████     | 839kB 9.7MB/s eta 0:00:01\r\u001b[K     |███████████████████████████▎    | 849kB 9.7MB/s eta 0:00:01\r\u001b[K     |███████████████████████████▋    | 860kB 9.7MB/s eta 0:00:01\r\u001b[K     |████████████████████████████    | 870kB 9.7MB/s eta 0:00:01\r\u001b[K     |████████████████████████████▎   | 880kB 9.7MB/s eta 0:00:01\r\u001b[K     |████████████████████████████▋   | 890kB 9.7MB/s eta 0:00:01\r\u001b[K     |█████████████████████████████   | 901kB 9.7MB/s eta 0:00:01\r\u001b[K     |█████████████████████████████▏  | 911kB 9.7MB/s eta 0:00:01\r\u001b[K     |█████████████████████████████▌  | 921kB 9.7MB/s eta 0:00:01\r\u001b[K     |█████████████████████████████▉  | 931kB 9.7MB/s eta 0:00:01\r\u001b[K     |██████████████████████████████▏ | 942kB 9.7MB/s eta 0:00:01\r\u001b[K     |██████████████████████████████▌ | 952kB 9.7MB/s eta 0:00:01\r\u001b[K     |██████████████████████████████▉ | 962kB 9.7MB/s eta 0:00:01\r\u001b[K     |███████████████████████████████▏| 972kB 9.7MB/s eta 0:00:01\r\u001b[K     |███████████████████████████████▌| 983kB 9.7MB/s eta 0:00:01\r\u001b[K     |███████████████████████████████▉| 993kB 9.7MB/s eta 0:00:01\r\u001b[K     |████████████████████████████████| 1.0MB 9.7MB/s \n",
            "\u001b[?25hRequirement already satisfied: six in /usr/local/lib/python3.6/dist-packages (from langdetect) (1.12.0)\n",
            "Building wheels for collected packages: langdetect\n",
            "  Building wheel for langdetect (setup.py) ... \u001b[?25l\u001b[?25hdone\n",
            "  Created wheel for langdetect: filename=langdetect-1.0.7-cp36-none-any.whl size=993460 sha256=673405951b27a09c7f36e49e3185db7a7b8def5c1d923169237525cd29ce80a6\n",
            "  Stored in directory: /root/.cache/pip/wheels/ec/0c/a9/1647275e7ef5014e7b83ff30105180e332867d65e7617ddafe\n",
            "Successfully built langdetect\n",
            "Installing collected packages: langdetect\n",
            "Successfully installed langdetect-1.0.7\n"
          ],
          "name": "stdout"
        }
      ]
    },
    {
      "cell_type": "code",
      "metadata": {
        "id": "-RTqqtnPsvYC",
        "colab_type": "code",
        "colab": {}
      },
      "source": [
        "def cat_to_num(label):\n",
        "    if label == 'axe':\n",
        "        label = 0\n",
        "    elif label == 'sertanejo':\n",
        "        label = 1\n",
        "    elif label == 'gospelreligioso':\n",
        "        label = 2\n",
        "    elif label == 'bossa-nova':\n",
        "        label = 3\n",
        "    elif label == 'forro':\n",
        "        label = 4\n",
        "    elif label == 'mpb':\n",
        "        label = 5\n",
        "    elif label == 'samba':\n",
        "        label = 6\n",
        "    \n",
        "    return label"
      ],
      "execution_count": 0,
      "outputs": []
    },
    {
      "cell_type": "code",
      "metadata": {
        "id": "7njStUot001c",
        "colab_type": "code",
        "colab": {}
      },
      "source": [
        "def num_to_cat(label):\n",
        "    if label == 0:\n",
        "        label = 'axe'\n",
        "    elif label == 1:\n",
        "        label = 'sertanejo'\n",
        "    elif label == 2:\n",
        "        label = 'gospelreligioso'\n",
        "    elif label == 3:\n",
        "        label = 'bossa-nova'\n",
        "    elif label == 4:\n",
        "        label = 'forro'\n",
        "    elif label == 5:\n",
        "        label = 'mpb'\n",
        "    elif label == 6:\n",
        "        label = 'samba'\n",
        "    \n",
        "    return label"
      ],
      "execution_count": 0,
      "outputs": []
    },
    {
      "cell_type": "code",
      "metadata": {
        "id": "8wnC2429swKY",
        "colab_type": "code",
        "colab": {}
      },
      "source": [
        "#df['label'] = df['label'].apply(lambda l: cat_to_num(l))\n",
        "df = shuffle(df)"
      ],
      "execution_count": 0,
      "outputs": []
    },
    {
      "cell_type": "code",
      "metadata": {
        "id": "lSO_RQZKtKzX",
        "colab_type": "code",
        "colab": {}
      },
      "source": [
        "to_drop = []\n",
        "for lyric, index in zip(df.lyric, df.index):\n",
        "    if len(str(lyric)) <= 5:\n",
        "        to_drop.append(index)\n",
        "        \n",
        "#df.loc[1026]\n",
        "df.drop(to_drop, inplace=True)"
      ],
      "execution_count": 0,
      "outputs": []
    },
    {
      "cell_type": "code",
      "metadata": {
        "id": "6YNbq-zsrPVd",
        "colab_type": "code",
        "outputId": "33818b70-769a-473c-e8fa-d3febed69f69",
        "colab": {
          "base_uri": "https://localhost:8080/",
          "height": 34
        }
      },
      "source": [
        "\n",
        "from langdetect import detect\n",
        "\n",
        "not_pt = []\n",
        "\n",
        "for lyric, index in zip(df.lyric, df.index):\n",
        "    #print(index)\n",
        "    #print(detect(lyric))\n",
        "    if(detect(lyric) != 'pt'):\n",
        "        not_pt.append(index)\n",
        "\n",
        "print(len(not_pt))"
      ],
      "execution_count": 9,
      "outputs": [
        {
          "output_type": "stream",
          "text": [
            "281\n"
          ],
          "name": "stdout"
        }
      ]
    },
    {
      "cell_type": "code",
      "metadata": {
        "id": "Dg3AH4I4tWMY",
        "colab_type": "code",
        "colab": {}
      },
      "source": [
        "\n",
        "df.drop(not_pt, inplace=True)"
      ],
      "execution_count": 0,
      "outputs": []
    },
    {
      "cell_type": "code",
      "metadata": {
        "id": "PkFpJ8oA6y44",
        "colab_type": "code",
        "outputId": "dc3d68f9-fabc-40f3-de0e-48fc93462e4e",
        "colab": {
          "base_uri": "https://localhost:8080/",
          "height": 153
        }
      },
      "source": [
        "df.label.value_counts()"
      ],
      "execution_count": 11,
      "outputs": [
        {
          "output_type": "execute_result",
          "data": {
            "text/plain": [
              "sertanejo          895\n",
              "forro              891\n",
              "mpb                889\n",
              "samba              886\n",
              "gospelreligioso    874\n",
              "bossa-nova         801\n",
              "axe                763\n",
              "Name: label, dtype: int64"
            ]
          },
          "metadata": {
            "tags": []
          },
          "execution_count": 11
        }
      ]
    },
    {
      "cell_type": "code",
      "metadata": {
        "id": "5KwXkyUv66z5",
        "colab_type": "code",
        "outputId": "95aff24d-393a-4b76-83e0-e14d129d0b14",
        "colab": {
          "base_uri": "https://localhost:8080/",
          "height": 71
        }
      },
      "source": [
        "def print_plot(index):\n",
        "    example = df[df.index == index][['label', 'lyric']].values[0]\n",
        "    if len(example) > 0:\n",
        "        print(example[0])\n",
        "        print('Letra:', example[1])\n",
        "print_plot(10)"
      ],
      "execution_count": 12,
      "outputs": [
        {
          "output_type": "stream",
          "text": [
            "axe\n",
            "Letra: Essa novinha quando chega, a galera enlouquece Perna grossa rabetão, linda igual mulher de chefe Abri a roda que ela dança, eita que mina gostosa Manos pira nessa bunda, que novinha cabulosa    Desse desse desse desse, delícia que gostosa Vem quebrar pro seu malvado, novinha cabulosa    \n"
          ],
          "name": "stdout"
        }
      ]
    },
    {
      "cell_type": "code",
      "metadata": {
        "id": "OD05nqZk7nwj",
        "colab_type": "code",
        "colab": {}
      },
      "source": [
        "\n"
      ],
      "execution_count": 0,
      "outputs": []
    },
    {
      "cell_type": "code",
      "metadata": {
        "id": "dQx-I9w38Ba3",
        "colab_type": "code",
        "colab": {}
      },
      "source": [
        "\n",
        "df= df.reset_index(drop=True)\n",
        "REPLACE_BY_SPACE_RE = re.compile('[/(){}\\[\\]\\|@,;]')\n",
        "BAD_SYMBOLS_RE = re.compile('[^0-9a-z #+_]')\n",
        "STOPWORDS = set(stopwords.words('portuguese'))\n",
        "\n",
        "def clean_text(text):\n",
        " \n",
        "    text = text.lower() # lowercase text\n",
        "    #text = REPLACE_BY_SPACE_RE.sub(' ', text) # replace REPLACE_BY_SPACE_RE symbols by space in text. substitute the matched string in REPLACE_BY_SPACE_RE with space.\n",
        "    #text = BAD_SYMBOLS_RE.sub('', text) # remove symbols which are in BAD_SYMBOLS_RE from text. substitute the matched string in BAD_SYMBOLS_RE with nothing. \n",
        "    text = re.sub(r'\\W+', ' ', text)\n",
        "    text = ' '.join(word for word in text.split() if word not in STOPWORDS) # remove stopwors from text\n",
        "    return text\n",
        "  \n",
        "df['lyric'] = df['lyric'].apply(clean_text)\n"
      ],
      "execution_count": 0,
      "outputs": []
    },
    {
      "cell_type": "code",
      "metadata": {
        "id": "K0w6ce2eRdaE",
        "colab_type": "code",
        "colab": {}
      },
      "source": [
        "df['lyric'] = df['lyric'].str.replace('\\d+', '')"
      ],
      "execution_count": 0,
      "outputs": []
    },
    {
      "cell_type": "code",
      "metadata": {
        "id": "_iUuRArp9TKU",
        "colab_type": "code",
        "outputId": "da7fcec1-55dc-4a6d-93b8-6b6da9d712e4",
        "colab": {
          "base_uri": "https://localhost:8080/",
          "height": 71
        }
      },
      "source": [
        "print_plot(100)"
      ],
      "execution_count": 15,
      "outputs": [
        {
          "output_type": "stream",
          "text": [
            "forro\n",
            "Letra: reisado ciranda imaginário popular vaquejada batucada alto bumba boi bumbá morte vida severina casa grande senzala auto compadecida ariano suassuna joão cabral páginas retratos dessa vida joão grilo cancão fogo padre ciço lampião banda cabaçal novena renovação espinho fulô cante lá canto cá patativa assaré cavalhada candomblé nau catarineta cantoria cavalhada fandango marujada forró arrasta pé frevo manguebeach maracatu pastoril luiz gonzaga folclore cultura brasil frevo manguebeach maracatu pastoril luiz câmara cascudo cultura brasil frevo manguebeach maracatu pastoril pinto monteiro cultura brasil frevo manguebeach maracatu pastoril cego aderaldo cultura brasil\n"
          ],
          "name": "stdout"
        }
      ]
    },
    {
      "cell_type": "code",
      "metadata": {
        "id": "NZ_sbBdl9XMG",
        "colab_type": "code",
        "colab": {}
      },
      "source": [
        "# The maximum number of words to be used. (most frequent)\n",
        "MAX_NB_WORDS = 50000\n",
        "# Max number of words in each complaint.\n",
        "MAX_SEQUENCE_LENGTH = 200\n",
        "# This is fixed.\n",
        "EMBEDDING_DIM = 100\n",
        "tokenizer = Tokenizer(num_words=MAX_NB_WORDS, filters='!\"#$%&()*+,-./:;<=>?@[\\]^_`{|}~', lower=True)\n",
        "tokenizer.fit_on_texts(df['lyric'].values)\n",
        "word_index = tokenizer.word_index\n",
        "#print(word_index)\n",
        "#print('Found %s unique tokens.' % len(word_index))"
      ],
      "execution_count": 0,
      "outputs": []
    },
    {
      "cell_type": "code",
      "metadata": {
        "id": "hqKmOJIEMRX-",
        "colab_type": "code",
        "outputId": "75fbb372-6f08-4d55-be51-1b91b3307067",
        "colab": {
          "base_uri": "https://localhost:8080/",
          "height": 34
        }
      },
      "source": [
        "X = tokenizer.texts_to_sequences(df['lyric'].values)\n",
        "X = pad_sequences(X, maxlen=MAX_SEQUENCE_LENGTH)\n",
        "print('Shape of data tensor:', X.shape)\n"
      ],
      "execution_count": 17,
      "outputs": [
        {
          "output_type": "stream",
          "text": [
            "Shape of data tensor: (5999, 200)\n"
          ],
          "name": "stdout"
        }
      ]
    },
    {
      "cell_type": "code",
      "metadata": {
        "id": "_I7EyNHKM8tP",
        "colab_type": "code",
        "outputId": "fa225e16-5b79-4310-d1be-f91e9ce74602",
        "colab": {
          "base_uri": "https://localhost:8080/",
          "height": 34
        }
      },
      "source": [
        "Y = pd.get_dummies(df['label']).values\n",
        "print('Shape of label tensor:', Y.shape)\n"
      ],
      "execution_count": 18,
      "outputs": [
        {
          "output_type": "stream",
          "text": [
            "Shape of label tensor: (5999, 7)\n"
          ],
          "name": "stdout"
        }
      ]
    },
    {
      "cell_type": "code",
      "metadata": {
        "id": "-hUEZJouNEvg",
        "colab_type": "code",
        "outputId": "fd1bb2d8-b4f0-45ac-c36f-b409de41c509",
        "colab": {
          "base_uri": "https://localhost:8080/",
          "height": 51
        }
      },
      "source": [
        "X_train, X_test, Y_train, Y_test = train_test_split(X,Y, test_size = 0.20, random_state = 42)\n",
        "print(X_train.shape,Y_train.shape)\n",
        "print(X_test.shape,Y_test.shape)"
      ],
      "execution_count": 19,
      "outputs": [
        {
          "output_type": "stream",
          "text": [
            "(4799, 200) (4799, 7)\n",
            "(1200, 200) (1200, 7)\n"
          ],
          "name": "stdout"
        }
      ]
    },
    {
      "cell_type": "code",
      "metadata": {
        "id": "p_UdYRKdNIYQ",
        "colab_type": "code",
        "outputId": "fc1269a5-bb5e-4999-f8e5-38c3d4527034",
        "colab": {
          "base_uri": "https://localhost:8080/",
          "height": 292
        }
      },
      "source": [
        "\n",
        "model = Sequential()\n",
        "model.add(Embedding(MAX_NB_WORDS, EMBEDDING_DIM, input_length=X.shape[1], trainable=True))\n",
        "model.add(LSTM(128, activation='sigmoid', return_sequences=True))\n",
        "model.add(Dropout(0.5))\n",
        "model.add(GlobalMaxPooling1D())\n",
        "model.add(Dense(7, activation='softmax'))\n",
        "optimizer = optimizers.RMSprop(lr=0.01)\n",
        "#optimizer = optimizers.adam(lr=0.01)\n",
        "model.compile(loss='categorical_crossentropy',\n",
        "              optimizer=optimizer,\n",
        "              metrics=['acc'])"
      ],
      "execution_count": 20,
      "outputs": [
        {
          "output_type": "stream",
          "text": [
            "WARNING:tensorflow:From /usr/local/lib/python3.6/dist-packages/keras/backend/tensorflow_backend.py:66: The name tf.get_default_graph is deprecated. Please use tf.compat.v1.get_default_graph instead.\n",
            "\n",
            "WARNING:tensorflow:From /usr/local/lib/python3.6/dist-packages/keras/backend/tensorflow_backend.py:541: The name tf.placeholder is deprecated. Please use tf.compat.v1.placeholder instead.\n",
            "\n",
            "WARNING:tensorflow:From /usr/local/lib/python3.6/dist-packages/keras/backend/tensorflow_backend.py:4432: The name tf.random_uniform is deprecated. Please use tf.random.uniform instead.\n",
            "\n",
            "WARNING:tensorflow:From /usr/local/lib/python3.6/dist-packages/keras/backend/tensorflow_backend.py:148: The name tf.placeholder_with_default is deprecated. Please use tf.compat.v1.placeholder_with_default instead.\n",
            "\n",
            "WARNING:tensorflow:From /usr/local/lib/python3.6/dist-packages/keras/backend/tensorflow_backend.py:3733: calling dropout (from tensorflow.python.ops.nn_ops) with keep_prob is deprecated and will be removed in a future version.\n",
            "Instructions for updating:\n",
            "Please use `rate` instead of `keep_prob`. Rate should be set to `rate = 1 - keep_prob`.\n",
            "WARNING:tensorflow:From /usr/local/lib/python3.6/dist-packages/keras/optimizers.py:793: The name tf.train.Optimizer is deprecated. Please use tf.compat.v1.train.Optimizer instead.\n",
            "\n",
            "WARNING:tensorflow:From /usr/local/lib/python3.6/dist-packages/keras/backend/tensorflow_backend.py:3576: The name tf.log is deprecated. Please use tf.math.log instead.\n",
            "\n"
          ],
          "name": "stdout"
        }
      ]
    },
    {
      "cell_type": "code",
      "metadata": {
        "id": "jCBAH1kgNMxl",
        "colab_type": "code",
        "outputId": "e307e342-7ee2-4cd1-ba38-6df44fcb9a4e",
        "colab": {
          "base_uri": "https://localhost:8080/",
          "height": 374
        }
      },
      "source": [
        "\n",
        "epochs = 10\n",
        "batch_size = 16\n",
        "\n",
        "history = model.fit(X_train, Y_train, epochs=epochs, batch_size=batch_size,validation_split=0.1)"
      ],
      "execution_count": 25,
      "outputs": [
        {
          "output_type": "stream",
          "text": [
            "Train on 4319 samples, validate on 480 samples\n",
            "Epoch 1/10\n",
            "4319/4319 [==============================] - 88s 20ms/step - loss: 0.7114 - acc: 0.7747 - val_loss: 1.6419 - val_acc: 0.4333\n",
            "Epoch 2/10\n",
            "4319/4319 [==============================] - 88s 20ms/step - loss: 0.5275 - acc: 0.8421 - val_loss: 1.8856 - val_acc: 0.4167\n",
            "Epoch 3/10\n",
            "4319/4319 [==============================] - 89s 21ms/step - loss: 0.3987 - acc: 0.8777 - val_loss: 1.8897 - val_acc: 0.4271\n",
            "Epoch 4/10\n",
            "4319/4319 [==============================] - 88s 20ms/step - loss: 0.3248 - acc: 0.9092 - val_loss: 2.1053 - val_acc: 0.4104\n",
            "Epoch 5/10\n",
            "4319/4319 [==============================] - 86s 20ms/step - loss: 0.2739 - acc: 0.9227 - val_loss: 1.9293 - val_acc: 0.4437\n",
            "Epoch 6/10\n",
            "4319/4319 [==============================] - 81s 19ms/step - loss: 0.2389 - acc: 0.9396 - val_loss: 1.8889 - val_acc: 0.4896\n",
            "Epoch 7/10\n",
            "4319/4319 [==============================] - 87s 20ms/step - loss: 0.2025 - acc: 0.9470 - val_loss: 2.2679 - val_acc: 0.4333\n",
            "Epoch 8/10\n",
            "4319/4319 [==============================] - 89s 21ms/step - loss: 0.1922 - acc: 0.9532 - val_loss: 1.9884 - val_acc: 0.4750\n",
            "Epoch 9/10\n",
            "4319/4319 [==============================] - 89s 21ms/step - loss: 0.1756 - acc: 0.9558 - val_loss: 2.1376 - val_acc: 0.4458\n",
            "Epoch 10/10\n",
            "4319/4319 [==============================] - 85s 20ms/step - loss: 0.1416 - acc: 0.9646 - val_loss: 1.9630 - val_acc: 0.5021\n"
          ],
          "name": "stdout"
        }
      ]
    },
    {
      "cell_type": "code",
      "metadata": {
        "id": "shx-BkWiNPfH",
        "colab_type": "code",
        "outputId": "1f1b2d87-f54d-4f82-8f95-66b2d950d0fd",
        "colab": {
          "base_uri": "https://localhost:8080/",
          "height": 85
        }
      },
      "source": [
        "accr = model.evaluate(X_test,Y_test)\n",
        "print('Test set\\n  Loss: {:0.3f}\\n  Accuracy: {:0.3f}'.format(accr[0],accr[1]))"
      ],
      "execution_count": 27,
      "outputs": [
        {
          "output_type": "stream",
          "text": [
            "1200/1200 [==============================] - 2s 2ms/step\n",
            "Test set\n",
            "  Loss: 2.011\n",
            "  Accuracy: 0.487\n"
          ],
          "name": "stdout"
        }
      ]
    },
    {
      "cell_type": "code",
      "metadata": {
        "id": "IMACq4-_NSga",
        "colab_type": "code",
        "outputId": "d16d5aac-e22a-4cac-a62a-453e156b9380",
        "colab": {
          "base_uri": "https://localhost:8080/",
          "height": 281
        }
      },
      "source": [
        "plt.title('Loss')\n",
        "plt.plot(history.history['loss'], label='train')\n",
        "plt.plot(history.history['val_loss'], label='test')\n",
        "plt.legend()\n",
        "plt.show();"
      ],
      "execution_count": 28,
      "outputs": [
        {
          "output_type": "display_data",
          "data": {
            "image/png": "[encoded data removed]",
            "text/plain": [
              "<Figure size 432x288 with 1 Axes>"
            ]
          },
          "metadata": {
            "tags": []
          }
        }
      ]
    },
    {
      "cell_type": "code",
      "metadata": {
        "id": "9zfGWfliNUxj",
        "colab_type": "code",
        "outputId": "3edd3342-0b17-4c6c-ef1d-9679f5eaffee",
        "colab": {
          "base_uri": "https://localhost:8080/",
          "height": 281
        }
      },
      "source": [
        "plt.title('Accuracy')\n",
        "plt.plot(history.history['acc'], label='train')\n",
        "plt.plot(history.history['val_acc'], label='test')\n",
        "plt.legend()\n",
        "plt.show();"
      ],
      "execution_count": 29,
      "outputs": [
        {
          "output_type": "display_data",
          "data": {
            "image/png": "[encoded data removed]",
            "text/plain": [
              "<Figure size 432x288 with 1 Axes>"
            ]
          },
          "metadata": {
            "tags": []
          }
        }
      ]
    },
    {
      "cell_type": "code",
      "metadata": {
        "id": "Wt0ujZdlw1c-",
        "colab_type": "code",
        "outputId": "e95436bf-71f6-46a0-c204-dc38604036a9",
        "colab": {
          "base_uri": "https://localhost:8080/",
          "height": 34
        }
      },
      "source": [
        "\n",
        "new_complaint = ['Não dá pra entender o meu coração Mudou de amizade pra louca paixão Então foi dessa forma que eu percebi Não quero te assustar ou me iludir']\n",
        "seq = tokenizer.texts_to_sequences(new_complaint)\n",
        "padded = pad_sequences(seq, maxlen=MAX_SEQUENCE_LENGTH)\n",
        "\n",
        "pred = model.predict(padded)\n",
        "labels = ['sertanejo','forro','mpb','samba','gospelreligioso','bossa-nova','axe']       \n",
        "print(labels[np.argmax(pred)])"
      ],
      "execution_count": 30,
      "outputs": [
        {
          "output_type": "stream",
          "text": [
            "sertanejo\n"
          ],
          "name": "stdout"
        }
      ]
    },
    {
      "cell_type": "code",
      "metadata": {
        "id": "tEUhrR_-wiZW",
        "colab_type": "code",
        "outputId": "cd958830-cf9b-45d2-9bfc-41daa87b45d0",
        "colab": {
          "base_uri": "https://localhost:8080/",
          "height": 348
        }
      },
      "source": [
        "\n",
        "from sklearn.metrics import confusion_matrix,classification_report\n",
        "from sklearn.utils.multiclass import unique_labels\n",
        "#Y_pred = model.predict(X_test,Y_test)\n",
        "#y_pred = np.argmax(Y_pred, axis=1)\n",
        "print('Confusion Matrix')\n",
        "#print(confusion_matrix(validation_generator.classes, y_pred))\n",
        "\n",
        "yhat = model.predict_classes(X_test)\n",
        "Y_true = []\n",
        "for x in Y_test:\n",
        "   Y_true.append(labels[np.argmax(x)])\n",
        "Y_pred = []\n",
        "for y in yhat:\n",
        "  Y_pred.append(num_to_cat(y))\n",
        "  \n",
        "#yhat = yhat.apply(lambda l: num_to_cat(l))\n",
        "#print(len(Y_test))\n",
        "#print(yhat)\n",
        "#print(Y_pred)\n",
        "#print(Y_true)\n",
        "#print(labels)\n",
        "\n",
        "plot_confusion_matrix(Y_true, Y_pred, classes=labels,\n",
        "                      title='')\n"
      ],
      "execution_count": 40,
      "outputs": [
        {
          "output_type": "stream",
          "text": [
            "Confusion Matrix\n",
            "Confusion matrix, without normalization\n"
          ],
          "name": "stdout"
        },
        {
          "output_type": "execute_result",
          "data": {
            "text/plain": [
              "<matplotlib.axes._subplots.AxesSubplot at 0x7f897ef90128>"
            ]
          },
          "metadata": {
            "tags": []
          },
          "execution_count": 40
        },
        {
          "output_type": "display_data",
          "data": {
            "image/png": "[encoded data removed]",
            "text/plain": [
              "<Figure size 432x288 with 2 Axes>"
            ]
          },
          "metadata": {
            "tags": []
          }
        }
      ]
    },
    {
      "cell_type": "code",
      "metadata": {
        "id": "ff0nER3vFjOA",
        "colab_type": "code",
        "outputId": "b4ba57a4-d435-46a8-b094-add8b881102b",
        "colab": {
          "base_uri": "https://localhost:8080/",
          "height": 255
        }
      },
      "source": [
        "print(classification_report(Y_true, Y_pred,labels=labels))"
      ],
      "execution_count": 33,
      "outputs": [
        {
          "output_type": "stream",
          "text": [
            "                 precision    recall  f1-score   support\n",
            "\n",
            "      sertanejo       0.04      0.04      0.04       148\n",
            "          forro       0.18      0.30      0.23       145\n",
            "            mpb       0.06      0.04      0.05       186\n",
            "          samba       0.08      0.07      0.07       174\n",
            "gospelreligioso       0.14      0.16      0.15       186\n",
            "     bossa-nova       0.02      0.02      0.02       169\n",
            "            axe       0.13      0.09      0.11       192\n",
            "\n",
            "       accuracy                           0.10      1200\n",
            "      macro avg       0.09      0.10      0.10      1200\n",
            "   weighted avg       0.09      0.10      0.09      1200\n",
            "\n"
          ],
          "name": "stdout"
        }
      ]
    },
    {
      "cell_type": "code",
      "metadata": {
        "id": "LwSF78oqGZTA",
        "colab_type": "code",
        "colab": {}
      },
      "source": [
        "def plot_confusion_matrix(y_true, y_pred, classes,\n",
        "                          normalize=False,\n",
        "                          title=None,\n",
        "                          cmap=plt.cm.Blues):\n",
        "    \"\"\"\n",
        "    This function prints and plots the confusion matrix.\n",
        "    Normalization can be applied by setting `normalize=True`.\n",
        "    \"\"\"\n",
        "    if not title:\n",
        "        if normalize:\n",
        "            title = 'Normalized confusion matrix'\n",
        "        else:\n",
        "            title =''\n",
        "\n",
        "    # Compute confusion matrix\n",
        "    cm = confusion_matrix(y_true, y_pred)\n",
        "    # Only use the labels that appear in the data\n",
        "    classes = classes\n",
        "    if normalize:\n",
        "        cm = cm.astype('float') / cm.sum(axis=1)[:, np.newaxis]\n",
        "        print(\"Normalized confusion matrix\")\n",
        "    else:\n",
        "        print('Confusion matrix, without normalization')\n",
        "\n",
        "    #print(cm)\n",
        "\n",
        "    fig, ax = plt.subplots()\n",
        "    im = ax.imshow(cm, interpolation='nearest', cmap=cmap)\n",
        "    ax.figure.colorbar(im, ax=ax)\n",
        "    # We want to show all ticks...\n",
        "    ax.set(xticks=np.arange(cm.shape[1]),\n",
        "           yticks=np.arange(cm.shape[0]),\n",
        "           # ... and label them with the respective list entries\n",
        "           xticklabels=classes, yticklabels=classes,\n",
        "           title='',\n",
        "           ylabel='True label',\n",
        "           xlabel='Predicted label')\n",
        "\n",
        "    # Rotate the tick labels and set their alignment.\n",
        "    plt.setp(ax.get_xticklabels(), rotation=45, ha=\"right\",\n",
        "             rotation_mode=\"anchor\")\n",
        "\n",
        "    # Loop over data dimensions and create text annotations.\n",
        "    fmt = '.2f' if normalize else 'd'\n",
        "    thresh = cm.max() / 2.\n",
        "    for i in range(cm.shape[0]):\n",
        "        for j in range(cm.shape[1]):\n",
        "            ax.text(j, i, format(cm[i, j], fmt),\n",
        "                    ha=\"center\", va=\"center\",\n",
        "                    color=\"white\" if cm[i, j] > thresh else \"black\")\n",
        "    fig.tight_layout()\n",
        "    return ax"
      ],
      "execution_count": 0,
      "outputs": []
    },
    {
      "cell_type": "code",
      "metadata": {
        "id": "FPnrrPTElsjM",
        "colab_type": "code",
        "colab": {}
      },
      "source": [
        ""
      ],
      "execution_count": 0,
      "outputs": []
    },
    {
      "cell_type": "code",
      "metadata": {
        "id": "PrxWcKh2uTOc",
        "colab_type": "code",
        "colab": {}
      },
      "source": [
        ""
      ],
      "execution_count": 0,
      "outputs": []
    }
  ]
}