{
  "nbformat": 4,
  "nbformat_minor": 0,
  "metadata": {
    "colab": {
      "name": "trabalho1_p2.ipynb",
      "provenance": [],
      "collapsed_sections": []
    },
    "kernelspec": {
      "name": "python3",
      "display_name": "Python 3"
    }
  },
  "cells": [
    {
      "cell_type": "code",
      "metadata": {
        "id": "4A6z2ATmnpro",
        "colab_type": "code",
        "outputId": "f76418f9-bc95-4fc9-bdb5-1f15c6077e20",
        "colab": {
          "base_uri": "https://localhost:8080/",
          "height": 102
        }
      },
      "source": [
        "!pip install sklearn_crfsuite"
      ],
      "execution_count": 144,
      "outputs": [
        {
          "output_type": "stream",
          "text": [
            "Requirement already satisfied: sklearn_crfsuite in /usr/local/lib/python3.6/dist-packages (0.3.6)\n",
            "Requirement already satisfied: six in /usr/local/lib/python3.6/dist-packages (from sklearn_crfsuite) (1.12.0)\n",
            "Requirement already satisfied: tabulate in /usr/local/lib/python3.6/dist-packages (from sklearn_crfsuite) (0.8.5)\n",
            "Requirement already satisfied: python-crfsuite>=0.8.3 in /usr/local/lib/python3.6/dist-packages (from sklearn_crfsuite) (0.9.6)\n",
            "Requirement already satisfied: tqdm>=2.0 in /usr/local/lib/python3.6/dist-packages (from sklearn_crfsuite) (4.28.1)\n"
          ],
          "name": "stdout"
        }
      ]
    },
    {
      "cell_type": "code",
      "metadata": {
        "id": "Q8m9cBwhnvzj",
        "colab_type": "code",
        "outputId": "9ff811af-0899-4660-a2da-e6c53f980edc",
        "colab": {
          "base_uri": "https://localhost:8080/",
          "height": 136
        }
      },
      "source": [
        "import pandas as pd\n",
        "\n",
        "from sklearn.model_selection import train_test_split\n",
        "from sklearn_crfsuite import CRF\n",
        "from sklearn_crfsuite.metrics import flat_f1_score\n",
        "from sklearn_crfsuite.metrics import flat_classification_report\n",
        "import nltk\n",
        "import numpy as np\n",
        "nltk.download('punkt')\n",
        "nltk.download('averaged_perceptron_tagger')"
      ],
      "execution_count": 145,
      "outputs": [
        {
          "output_type": "stream",
          "text": [
            "[nltk_data] Downloading package punkt to /root/nltk_data...\n",
            "[nltk_data]   Package punkt is already up-to-date!\n",
            "[nltk_data] Downloading package averaged_perceptron_tagger to\n",
            "[nltk_data]     /root/nltk_data...\n",
            "[nltk_data]   Package averaged_perceptron_tagger is already up-to-\n",
            "[nltk_data]       date!\n"
          ],
          "name": "stdout"
        },
        {
          "output_type": "execute_result",
          "data": {
            "text/plain": [
              "True"
            ]
          },
          "metadata": {
            "tags": []
          },
          "execution_count": 145
        }
      ]
    },
    {
      "cell_type": "code",
      "metadata": {
        "id": "77WmIaA3nwKq",
        "colab_type": "code",
        "outputId": "f3f75168-defd-422c-9b46-bb8a07d8b08f",
        "colab": {
          "base_uri": "https://localhost:8080/",
          "height": 566
        }
      },
      "source": [
        "\n",
        "df = pd.read_csv('dataset.ptbr_harem.csv', delimiter=\";\", encoding = \"UTF-8\")\n",
        "df.head(10)\n",
        "\n"
      ],
      "execution_count": 146,
      "outputs": [
        {
          "output_type": "execute_result",
          "data": {
            "text/html": [
              "<div>\n",
              "<style scoped>\n",
              "    .dataframe tbody tr th:only-of-type {\n",
              "        vertical-align: middle;\n",
              "    }\n",
              "\n",
              "    .dataframe tbody tr th {\n",
              "        vertical-align: top;\n",
              "    }\n",
              "\n",
              "    .dataframe thead th {\n",
              "        text-align: right;\n",
              "    }\n",
              "</style>\n",
              "<table border=\"1\" class=\"dataframe\">\n",
              "  <thead>\n",
              "    <tr style=\"text-align: right;\">\n",
              "      <th></th>\n",
              "      <th>SENTENCE_ID</th>\n",
              "      <th>RELATION_ID</th>\n",
              "      <th>SENTENCE</th>\n",
              "      <th>ARGUMENT_1</th>\n",
              "      <th>ARGUMENT_1_CATEGORY</th>\n",
              "      <th>RELATION</th>\n",
              "      <th>ARGUMENT_2</th>\n",
              "      <th>ARGUMENT_2_CATEGORY</th>\n",
              "    </tr>\n",
              "  </thead>\n",
              "  <tbody>\n",
              "    <tr>\n",
              "      <th>0</th>\n",
              "      <td>3</td>\n",
              "      <td>1</td>\n",
              "      <td>Marcelo_Tejedor, paleontólogo de a Universidad...</td>\n",
              "      <td>Marcelo_Tejedor</td>\n",
              "      <td>PER</td>\n",
              "      <td>NaN</td>\n",
              "      <td>Universidade_Nacional_da_Patagônia</td>\n",
              "      <td>ORG</td>\n",
              "    </tr>\n",
              "    <tr>\n",
              "      <th>1</th>\n",
              "      <td>4</td>\n",
              "      <td>3</td>\n",
              "      <td>Esse é um alvo viável para remédios contra a o...</td>\n",
              "      <td>John_Clapham</td>\n",
              "      <td>PER</td>\n",
              "      <td>NaN</td>\n",
              "      <td>Smith_Kline_Beecham</td>\n",
              "      <td>ORG</td>\n",
              "    </tr>\n",
              "    <tr>\n",
              "      <th>2</th>\n",
              "      <td>9</td>\n",
              "      <td>2</td>\n",
              "      <td>Um grupo que reúne 13 sociedades científicas n...</td>\n",
              "      <td>Associação_Nacional_de_Biossegurança</td>\n",
              "      <td>ORG</td>\n",
              "      <td>NaN</td>\n",
              "      <td>ANBio</td>\n",
              "      <td>ORG</td>\n",
              "    </tr>\n",
              "    <tr>\n",
              "      <th>3</th>\n",
              "      <td>10</td>\n",
              "      <td>1</td>\n",
              "      <td>Primeiro, pede que a CTNBio (Comissão_Técnica_...</td>\n",
              "      <td>CTNBio</td>\n",
              "      <td>ORG</td>\n",
              "      <td>NaN</td>\n",
              "      <td>Comissão_Técnica_Nacional_de_Biossegurança</td>\n",
              "      <td>ORG</td>\n",
              "    </tr>\n",
              "    <tr>\n",
              "      <th>4</th>\n",
              "      <td>11</td>\n",
              "      <td>1</td>\n",
              "      <td>A idéia foi lançada por o ministro_Roberto_Ama...</td>\n",
              "      <td>ministro_Roberto_Amaral</td>\n",
              "      <td>PER</td>\n",
              "      <td>NaN</td>\n",
              "      <td>Ciência_e_Tecnologia</td>\n",
              "      <td>ORG</td>\n",
              "    </tr>\n",
              "    <tr>\n",
              "      <th>5</th>\n",
              "      <td>11</td>\n",
              "      <td>5</td>\n",
              "      <td>A idéia foi lançada por o ministro_Roberto_Ama...</td>\n",
              "      <td>USP</td>\n",
              "      <td>ORG</td>\n",
              "      <td>NaN</td>\n",
              "      <td>Universidade_de_São_Paulo</td>\n",
              "      <td>ORG</td>\n",
              "    </tr>\n",
              "    <tr>\n",
              "      <th>6</th>\n",
              "      <td>12</td>\n",
              "      <td>1</td>\n",
              "      <td>Francelino_Grando, secretário_de_Política_Tecn...</td>\n",
              "      <td>Francelino_Grando</td>\n",
              "      <td>PER</td>\n",
              "      <td>NaN</td>\n",
              "      <td>MCT</td>\n",
              "      <td>ORG</td>\n",
              "    </tr>\n",
              "    <tr>\n",
              "      <th>7</th>\n",
              "      <td>12</td>\n",
              "      <td>2</td>\n",
              "      <td>Francelino_Grando, secretário_de_Política_Tecn...</td>\n",
              "      <td>secretário_de_Política_Tecnológica_Empresarial</td>\n",
              "      <td>PER</td>\n",
              "      <td>NaN</td>\n",
              "      <td>MCT</td>\n",
              "      <td>ORG</td>\n",
              "    </tr>\n",
              "    <tr>\n",
              "      <th>8</th>\n",
              "      <td>12</td>\n",
              "      <td>3</td>\n",
              "      <td>Francelino_Grando, secretário_de_Política_Tecn...</td>\n",
              "      <td>MCT</td>\n",
              "      <td>ORG</td>\n",
              "      <td>NaN</td>\n",
              "      <td>Ministério_da_Ciência_e_Tecnologia</td>\n",
              "      <td>ORG</td>\n",
              "    </tr>\n",
              "    <tr>\n",
              "      <th>9</th>\n",
              "      <td>14</td>\n",
              "      <td>4</td>\n",
              "      <td>Ainda ontem, o prefeito de Ribeirão, Gilberto_...</td>\n",
              "      <td>Gilberto_Maggioni</td>\n",
              "      <td>PER</td>\n",
              "      <td>NaN</td>\n",
              "      <td>PMN</td>\n",
              "      <td>ORG</td>\n",
              "    </tr>\n",
              "  </tbody>\n",
              "</table>\n",
              "</div>"
            ],
            "text/plain": [
              "   SENTENCE_ID  ...  ARGUMENT_2_CATEGORY\n",
              "0            3  ...                  ORG\n",
              "1            4  ...                  ORG\n",
              "2            9  ...                  ORG\n",
              "3           10  ...                  ORG\n",
              "4           11  ...                  ORG\n",
              "5           11  ...                  ORG\n",
              "6           12  ...                  ORG\n",
              "7           12  ...                  ORG\n",
              "8           12  ...                  ORG\n",
              "9           14  ...                  ORG\n",
              "\n",
              "[10 rows x 8 columns]"
            ]
          },
          "metadata": {
            "tags": []
          },
          "execution_count": 146
        }
      ]
    },
    {
      "cell_type": "code",
      "metadata": {
        "id": "5k3tZ4ogrDDD",
        "colab_type": "code",
        "colab": {}
      },
      "source": [
        "class Entity():\n",
        "   def __init__(self,name=\"NONE\",categ='NONE'):\n",
        "      self.name = name\n",
        "      self.categ = categ\n",
        "   def setName (self,name):\n",
        "      self.name = name\n",
        "   def getName(self):\n",
        "      return self.name\n",
        "   def setCategory(self,categ):\n",
        "      self.categ = categ\n",
        "   def getCategory(self):\n",
        "      return self.categ\n",
        "   def __str__(self):\n",
        "      return \"%s/%s\"%(self.name,self.categ)\n",
        "   def __eq__(self, other):\n",
        "      if isinstance(other, Entity):\n",
        "          return self.name == other.getName() and self.categ == other.getCategory()\n",
        "      return False\n",
        "\n",
        "class Relation():\n",
        "   def __init__(self,arg1=None,rel=None,arg2=None):\n",
        "      if type(arg1)==Entity and type(arg2)==Entity:\n",
        "         self.arg1 = arg1\n",
        "         self.rel = rel\n",
        "         self.arg2 = arg2\n",
        "      elif type(arg1)==str and type(arg2)==str:\n",
        "         self.arg1 = Entity(name=arg1)\n",
        "         self.rel = rel\n",
        "         self.arg2 = Entity(name=arg2)\n",
        "      elif (type(arg1)==tuple or type(arg1)==list)  and (type(arg2)==tuple or type(arg2)==list):\n",
        "         self.arg1 = Entity(name=arg1[0],categ=arg1[1])\n",
        "         self.rel = rel\n",
        "         self.arg2 = Entity(name=arg2[0],categ=arg2[1])\n",
        "   def setRel(self,rel):\n",
        "     self.rel = rel\n",
        "   def getArg1(self):\n",
        "         return self.arg1\n",
        "   def getArg2(self):\n",
        "         return self.arg2\n",
        "   def getRel(self):\n",
        "         return self.rel\n",
        "   def toTriple(self):\n",
        "         return (self.arg1.getName(),self.rel,self.arg2.getName()) \n",
        "   def toQuintuple(self):\n",
        "         return (self.arg1.getName(),self.arg1.getCategory(),self.rel,self.arg2.getName(),self.arg2.getCategory()) \n",
        "   def __str__(self):\n",
        "      return \"(%s,%s,%s)\"%(str(self.arg1),self.rel,str(self.arg2))\n",
        "   def __eq__(self, other):\n",
        "      if isinstance(other, Relation):\n",
        "          return self.arg1 == other.getArg1() and self.rel == other.getRel() and self.arg2 == other.getArg2()\n",
        "      return False\n",
        "   def __hash__(self):\n",
        "      return hash(self.rel)"
      ],
      "execution_count": 0,
      "outputs": []
    },
    {
      "cell_type": "code",
      "metadata": {
        "id": "QoP8Nn32rL1V",
        "colab_type": "code",
        "colab": {}
      },
      "source": [
        "gold = [Relation((df[\"ARGUMENT_1\"][0],df[\"ARGUMENT_1_CATEGORY\"][0]),df[\"RELATION\"][0],(df[\"ARGUMENT_2\"][0],df[\"ARGUMENT_1_CATEGORY\"][0]) )]"
      ],
      "execution_count": 0,
      "outputs": []
    },
    {
      "cell_type": "code",
      "metadata": {
        "id": "O7pncyJ2rlXN",
        "colab_type": "code",
        "outputId": "e6f1c94a-d58e-4bff-851d-efc1c62c48ba",
        "colab": {
          "base_uri": "https://localhost:8080/",
          "height": 34
        }
      },
      "source": [
        "for go in gold:\n",
        "  print((go.getArg1().getName(),go.getRel(),go.getArg2().getName()))"
      ],
      "execution_count": 149,
      "outputs": [
        {
          "output_type": "stream",
          "text": [
            "('Marcelo_Tejedor', nan, 'Universidade_Nacional_da_Patagônia')\n"
          ],
          "name": "stdout"
        }
      ]
    },
    {
      "cell_type": "code",
      "metadata": {
        "id": "6iQuSzZ0tBom",
        "colab_type": "code",
        "colab": {}
      },
      "source": [
        "import re\n",
        "def normalize(text):\n",
        "   text = text.lower()\n",
        "   text = re.sub(\"de a\",\"da\",text)\n",
        "   text = re.sub(\"de o\",\"do\",text)\n",
        "   text = re.sub(\"de os \",\"dos\",text)\n",
        "   text = re.sub(\"de as \",\"das\",text)\n",
        "   text = re.sub(\"em a\",\"na\",text)\n",
        "   text = re.sub(\"em o\",\"no\",text)\n",
        "   text = re.sub(\"em os\",\"nos\",text)\n",
        "   text = re.sub(\"em as\", \"nas\",text)\n",
        "   text = re.sub(\"á\",\"a\",text)\n",
        "   text = re.sub(\"por a \",\"pela\",text)\n",
        "   text = re.sub(\"por o\",\"pelo\",text)\n",
        "   text = re.sub(\"por os\",\"pelos\",text)\n",
        "   text = re.sub(\"por as\",\"pelas\",text)\n",
        "   text = re.sub(\"\\((?! )\",\"( \",text)\n",
        "   text = re.sub(\"\\r\",\"\",text)\n",
        "   text = re.sub(\",\",\"\",text)\n",
        "   #text = re.sub(\"[^a-zA-z \\n()0-9]\",\"\",text)\n",
        "   text = re.sub(\"  \",\"\",text)\n",
        "   return text"
      ],
      "execution_count": 0,
      "outputs": []
    },
    {
      "cell_type": "code",
      "metadata": {
        "id": "ZkZpaMdI-jQR",
        "colab_type": "code",
        "colab": {}
      },
      "source": [
        "text = df[\"SENTENCE\"][0]\n",
        "start = df[\"ARGUMENT_1\"][0]\n",
        "end = df[\"ARGUMENT_2\"][0]\n",
        "new_text = text[text.find(start)+len(start):text.rfind(end)]\n"
      ],
      "execution_count": 0,
      "outputs": []
    },
    {
      "cell_type": "code",
      "metadata": {
        "id": "nWUUYteA-yEc",
        "colab_type": "code",
        "outputId": "e11bdd1f-3472-4a66-e94c-be9c3f3d6878",
        "colab": {
          "base_uri": "https://localhost:8080/",
          "height": 34
        }
      },
      "source": [
        "print(new_text)"
      ],
      "execution_count": 152,
      "outputs": [
        {
          "output_type": "stream",
          "text": [
            ", paleontólogo de a \n"
          ],
          "name": "stdout"
        }
      ]
    },
    {
      "cell_type": "code",
      "metadata": {
        "id": "Mu2OJKmt_FlG",
        "colab_type": "code",
        "colab": {}
      },
      "source": [
        "new_text = normalize(new_text)\n"
      ],
      "execution_count": 0,
      "outputs": []
    },
    {
      "cell_type": "code",
      "metadata": {
        "id": "DEZ4OONY_RyF",
        "colab_type": "code",
        "outputId": "c2f94add-4a4f-4a19-f9d4-6aca24637777",
        "colab": {
          "base_uri": "https://localhost:8080/",
          "height": 34
        }
      },
      "source": [
        "print(new_text)"
      ],
      "execution_count": 154,
      "outputs": [
        {
          "output_type": "stream",
          "text": [
            " paleontólogo da \n"
          ],
          "name": "stdout"
        }
      ]
    },
    {
      "cell_type": "code",
      "metadata": {
        "id": "pxzDK3it_efc",
        "colab_type": "code",
        "colab": {}
      },
      "source": [
        "go.setRel(new_text)"
      ],
      "execution_count": 0,
      "outputs": []
    },
    {
      "cell_type": "code",
      "metadata": {
        "id": "_ZLzdJbECPVY",
        "colab_type": "code",
        "outputId": "c4f55b04-d68f-4f3e-ba15-d3a6f0098139",
        "colab": {
          "base_uri": "https://localhost:8080/",
          "height": 34
        }
      },
      "source": [
        "print(len(df))\n",
        "gold = []"
      ],
      "execution_count": 156,
      "outputs": [
        {
          "output_type": "stream",
          "text": [
            "149\n"
          ],
          "name": "stdout"
        }
      ]
    },
    {
      "cell_type": "code",
      "metadata": {
        "id": "O33kzH_DCb1j",
        "colab_type": "code",
        "colab": {}
      },
      "source": [
        "for i in range(len(df)):\n",
        " # print(df[\"ARGUMENT_1\"][i])\n",
        "  text = df[\"SENTENCE\"][i]\n",
        "  start = df[\"ARGUMENT_1\"][i]\n",
        "  end = df[\"ARGUMENT_2\"][i]\n",
        "  rel = text[text.find(start)+len(start):text.rfind(end)]\n",
        "  rel = normalize(rel)\n",
        "  gold.append(Relation((df[\"ARGUMENT_1\"][i],df[\"ARGUMENT_1_CATEGORY\"][i]),rel,(df[\"ARGUMENT_2\"][i],df[\"ARGUMENT_1_CATEGORY\"][i]) ))"
      ],
      "execution_count": 0,
      "outputs": []
    },
    {
      "cell_type": "code",
      "metadata": {
        "id": "K6fnx75BCq5g",
        "colab_type": "code",
        "outputId": "8cfcfcc4-f38d-4690-edb5-358e1efcf0d5",
        "colab": {
          "base_uri": "https://localhost:8080/",
          "height": 1000
        }
      },
      "source": [
        "for go in gold:\n",
        "  print((go.getArg1().getName(),go.getRel(),go.getArg2().getName()))"
      ],
      "execution_count": 158,
      "outputs": [
        {
          "output_type": "stream",
          "text": [
            "('Marcelo_Tejedor', ' paleontólogo da ', 'Universidade_Nacional_da_Patagônia')\n",
            "('John_Clapham', ' da empresa farmacêutica ', 'Smith_Kline_Beecham')\n",
            "('Associação_Nacional_de_Biossegurança', ' ( ', 'ANBio')\n",
            "('CTNBio', ' ( ', 'Comissão_Técnica_Nacional_de_Biossegurança')\n",
            "('ministro_Roberto_Amaral', ' ( ', 'Ciência_e_Tecnologia')\n",
            "('USP', ' ( ', 'Universidade_de_São_Paulo')\n",
            "('Francelino_Grando', ' secretario_de_política_tecnológica_empresarial do ', 'MCT')\n",
            "('secretário_de_Política_Tecnológica_Empresarial', ' do ', 'MCT')\n",
            "('MCT', ' ( ', 'Ministério_da_Ciência_e_Tecnologia')\n",
            "('Gilberto_Maggioni', ' ( ', 'PMN')\n",
            "('Painel_Intergovernamental_de_Mudança_Climática', ' órgão da ', 'ONU')\n",
            "('Gilson_Rambelli', ' paulo_bava_de_camargo e flavio_rizzi pesquisadores do ', 'Museu_de_Arqueologia_e_Etnologia')\n",
            "('Flávio_Rizzi', ' pesquisadores do ', 'Museu_de_Arqueologia_e_Etnologia')\n",
            "('Museu_de_Arqueologia_e_Etnologia', ' ( ', 'MAE')\n",
            "('Museu_de_Arqueologia_e_Etnologia', ' ( mae) da ', 'USP')\n",
            "('MAE', ') da ', 'USP')\n",
            "('Paulo_Bava_de_Camargo', ' e flavio_rizzi pesquisadores do ', 'Museu_de_Arqueologia_e_Etnologia')\n",
            "('Gilson_Rambelli', ' paulo_bava_de_camargo e flavio_rizzi pesquisadores do museu_de_arqueologia_e_etnologia ( ', 'MAE')\n",
            "('Paulo_Bava_de_Camargo', ' e flavio_rizzi pesquisadores do museu darqueologia e etnologia ( ', 'MAE')\n",
            "('Flávio_Rizzi', ' pesquisadores do museu darqueologia e etnologia ( ', 'MAE')\n",
            "('Gilson_Rambelli', ' paulo_bava_de_camargo e flavio_rizzi pesquisadores do museu darqueologia e etnologia ( mae) da ', 'USP')\n",
            "('Paolo_Zanotto', ' da ', 'USP')\n",
            "('Institutos_Nacionais_de_Saúde', ' ( ', 'NIH')\n",
            "('Institutos_Nacionais_de_Saúde', ' ( nih) dos ', 'EUA')\n",
            "('NIH', ') dos ', 'EUA')\n",
            "('Teresa_Peret', ' dos ', 'CDC')\n",
            "('CDC', ' ( ', 'Centros_para_Controle_e_Prevenção_de_Doenças')\n",
            "('CDC', ' ( centros_para_controle_e_prevenção_de_doenças) dos ', 'EUA')\n",
            "('Centros_para_Controle_e_Prevenção_de_Doenças', ') dos ', 'EUA')\n",
            "('Teresa_Peret', ' dos cdc ( ', 'Centros_para_Controle_e_Prevenção_de_Doenças')\n",
            "('Greg_Laden', ' da ', 'Universidade_de_Minnesota')\n",
            "('Richard_Wrangham', ' da ', 'Universidade_Harvard')\n",
            "('ONU', ' ( ', 'Organização_das_Nações_Unidas')\n",
            "('Charles_Vörösmarty', ' da ', 'Universidade_de_New_Hampshire')\n",
            "('Universidade_de_New_Hampshire', ' nos ', 'Estados_Unidos')\n",
            "('José_Galizia_Tundisi', ' do ', 'Instituto_Internacional_de_Ecologia')\n",
            "('Instituto_Internacional_de_Ecologia', ' em ', 'São_Carlos')\n",
            "('Instituto_Internacional_de_Ecologia', ' em são_carlos ( ', 'SP')\n",
            "('Universidade_de_Michigan', ' em ', 'Ann_Arbor')\n",
            "('Universidade_de_Michigan', ' nann_arbor nos ', 'Estados_Unidos')\n",
            "('Zôo', ' de ', 'San_Diego')\n",
            "('Mark_Mattson', ' do ', 'Instituto_Nacional_do_Envelhecimentos')\n",
            "('Instituto_Nacional_do_Envelhecimentos', ' dos ', 'EUA')\n",
            "('Benjamin_Wolozin', ' do ', 'Centro_Médico_da_Universidade_Loyola')\n",
            "('Centro_Médico_da_Universidade_Loyola', ' ( ', 'Chicago')\n",
            "('Centro_Médico_da_Universidade_Loyola', ' ( chicago ', 'EUA')\n",
            "('César_Ades', ' da ', 'USP')\n",
            "('Imperial_College', ' em ', 'Londres')\n",
            "('Academia_de_Ciências', ' dos ', 'EUA')\n",
            "('Schuyler_Korban', ' da ', 'Universidade_de_Illinois')\n",
            "('Universidade_de_Illinois', ' ( ', 'EUA')\n",
            "('CNPq', ' ( ', 'Conselho_Nacional_de_Desenvolvimento_Científico_e_Tecnológico')\n",
            "('Fapesp', ' ( ', 'Fundação_de_Amparo_à_Pesquisa_do_Estado_de_São_Paulo')\n",
            "('Universidade_MacMaster', ' no ', 'Canadá')\n",
            "('Douglas_Revelle', ' do ', 'Laboratório_Nacional_de_Los_Alamos')\n",
            "('Robert_Jedicke', ' da ', 'Universidade_do_Arizona')\n",
            "('Selvaplac', ' subsidiaria brasileira de um grupo da ', 'Malásia')\n",
            "('Moncef_Kaabi', ' da ', 'Natixis')\n",
            "('PCP', ' de braga promove lanche e intervenção política; a comissão_concelhia_de_', 'Braga')\n",
            "('Estância_de_Cinco_Estrelas_Martino', ' é o lugar mais conveniente para se ficar na ', 'Costa_Rica')\n",
            "('Sarajevo', \" 'como último recurso para defender as tropas da \", 'ONU')\n",
            "('Rússia', ' vai apoiar uma ação da ', 'Otan')\n",
            "('Cooperativa_de_Agricultores', ' da ', 'Região_de_Maués')\n",
            "('Creative_Commons', ' no ', 'Brasil')\n",
            "('Ronaldo_Lemos', ' diretor do ', 'Creative_Commons')\n",
            "('Conselho_Europeu_Metodista', ' reuniu no passado mês de setembro em ', 'Stuttgart')\n",
            "('World_Alliance_of_Reformed_Churches', ' condena a guerra no ', 'Iraque')\n",
            "('Fernando_Gomes', ' presidente da ', 'Câmara_Municipal_do_Porto')\n",
            "('Sales_Marques', ' presidente do ', 'Leal_Senado')\n",
            "('Parlamento', ' enquanto tal no espírito e no seguimento da sua magnífica declaração não se pronunciou a favor do retorno da paz em ', 'Israel')\n",
            "('Parlamento', ' enquanto tal no espírito e no seguimento da sua magnífica declaração não se pronunciou a favor do retorno da paz em israel e no ', 'Próximo_Oriente')\n",
            "('Sangatte', ' aberto pelo ', 'Governo')\n",
            "('Sangatte', ' aberto pelo governo francês e gerido pela', 'Cruz_Vermelha')\n",
            "('Sesimbra', ' preparam-se para o fim da década quando tiverem como grande cliente a fabrica da ', 'Ford/Volkswagen')\n",
            "('Setúbal', ' e sesimbra preparam-se para o fim da década quando tiverem como grande cliente a fabrica da ', 'Ford/Volkswagen')\n",
            "('Joint_Non-Lethal_Weapons_Program', ' ( jnlwp) do ', 'Pentágono')\n",
            "('JNLWP', ') do ', 'Pentágono')\n",
            "('Joint_Non-Lethal_Weapons_Program', ' ( ', 'JNLWP')\n",
            "('Vítor_Constâncio', ' a a frente do ', 'PS')\n",
            "('Parlamento_Europeu', ' durante a qual josé_sócrates apresentou os resultados da presidência portuguesa da ', 'UE')\n",
            "('Durão_Barroso', ' discursava na sessão plenaria extraordinaria do ', 'Parlamento_Europeu')\n",
            "('Sócrates', \" outros que considerou 'também importantes' como a decisão de criar o \", 'Instituto_Europeu_de_Tecnologia')\n",
            "('Hans-Gert_PÖTTERING', ' destacou ainda a importância para o ', 'PE')\n",
            "('Martin_SCHULZ', ' ( pse de) líder do ', 'PSE')\n",
            "('Francis_WURTZ', ' da ', 'CEUE/EVN')\n",
            "('António_Fontes', ' da ', 'AIPAN')\n",
            "('Casa_de_Cinema', ' de ', 'Porto_Alegre')\n",
            "('Ferro-Têxtil', ' foi licenciada pelo ', 'Ministério_da_Indústria')\n",
            "('Ministério_da_Indústria', ' do ', 'Governo')\n",
            "('Arábia_Saudita', ' era um dos três países do mundo que reconheciam no afeganistão o governo ', 'Talibã')\n",
            "('Arábia_Saudita', ' era um dos três países do mundo que reconheciam no ', 'Afeganistão')\n",
            "('Afeganistão', ' o governo ', 'Talibã')\n",
            "('Christina_Eisenberg', ' uma bióloga que estuda os lobos e trabalha para o ', 'Serviço_Americano_de_Vida_Selvagem_e_Aquática')\n",
            "('Almeida_Henriques', ' presidente da ', 'Associação_Industrial_da_Região_de_Viseu')\n",
            "('Almeida_Henriques', ' presidente da associação_industrial_da_região_de_viseu ( airv) é o novo rosto do ', 'Conselho_Empresarial_do_Centro')\n",
            "('Jornal_do_Nikkey', ' esteve pesquisando um lado gostoso da liberdade em ', 'São_Paulo')\n",
            "('Matthew_Battles', ' 35 editor do boletim da ', 'Biblioteca_Houghton')\n",
            "('CICA_1', ' liderada pelo ', 'Tenente-Coronel_Carlos_Azeredo')\n",
            "('Inglaterra', ' em ', 'Portugal')\n",
            "('Rudy_Giuliani', ' o republicano que ja foi presidente da ', 'Câmara')\n",
            "('Comissão_de_Controle_e_Gestão_Fiscal', ' do ', 'Ministério_da_Fazenda')\n",
            "('Comissão_de_Controle_e_Gestão_Fiscal', ' do ministério_da_fazenda publicou no diario_oficial uma recomendação a o ', 'Ministério_de_Orçamento_e_Gestão')\n",
            "('Dr._José_Getúlio_Lima', ' ( advogado e professor pai do dr._josé_carlos_de_barros_lima) que atuou muito na area educacional da região tendo sido o fundador entre outros do ginasio ', 'Conselheiro_Lafayette')\n",
            "('Legião_da_Boa_Vontade', ' instituição educacional cultural beneficente e filantrópica foi fundada no ', 'Brasil')\n",
            "('Legião_da_Boa_Vontade', ' instituição educacional cultural beneficente e filantrópica foi fundada no brasil pelo jornalista radialista e poeta ', 'Alziro_Zarur')\n",
            "('António_Ribeiro', ' em declarações a o ', 'Público')\n",
            "('Saraiva_Dias', ' vereador substituto do presidente da autarquia referiu a o ', 'Público')\n",
            "('Helena_Roseta', ' e carmona_rodrigues nas próximas eleições intercalares para a ', 'Câmara_de_Lisboa')\n",
            "('Carmona_Rodrigues', ' nas próximas eleições intercalares para a ', 'Câmara_de_Lisboa')\n",
            "('Amílcar_Cabral', ' criou o ', 'Partido_Africano_para_a_Independência_da_Guiné_e_Cabo_Verde')\n",
            "('Amílcar_Cabral', ' criou o partido_africano_para_a_independência_da_guiné_e_cabo_verde ( ', 'PAIGC')\n",
            "('Partido_Africano_para_a_Independência_da_Guiné_e_Cabo_Verde', ' ( ', 'PAIGC')\n",
            "('Cedima/IRM', ' e montepio das ', 'Caldas_da_Rainha')\n",
            "('Montepio', ' das ', 'Caldas_da_Rainha')\n",
            "('Pp', ' o pcp e o be nalguns casos mesmo alguns raros dissidentes do ps socratico têm criticado o governo enquanto o psd passa entre as sombras ou ficando pura e simplesmente silencioso ou murmurando umas críticas de circunstância que ninguém ouve ou em muitos casos concordando com o ', 'Governo')\n",
            "('PCP', ' e o be nalguns casos mesmo alguns raros dissidentes do ps socratico têm criticado o governo enquanto o psd passa entre as sombras ou ficando pura e simplesmente silencioso ou murmurando umas críticas de circunstância que ninguém ouve ou em muitos casos concordando com o ', 'Governo')\n",
            "('Be', ' nalguns casos mesmo alguns raros dissidentes do ps socratico têm criticado o governo enquanto o psd passa entre as sombras ou ficando pura e simplesmente silencioso ou murmurando umas críticas de circunstância que ninguém ouve ou em muitos casos concordando com o ', 'Governo')\n",
            "('PSD', ' passa entre as sombras ou ficando pura e simplesmente silencioso ou murmurando umas críticas de circunstância que ninguém ouve ou em muitos casos concordando com o ', 'Governo')\n",
            "('PSD', ' passa entre as sombras ou ficando pura e simplesmente silencioso ou murmurando umas críticas de circunstância que ninguém ouve ou em muitos casos concordando com o governo e o ', 'PS')\n",
            "('PSD', ' esta onde esta o ', 'PS')\n",
            "('Biblioteca_Central_da_Marinha', ' ( bcm) é sucessora da antiga ', 'Biblioteca_da_Real_Academia_dos_Guardas-Marinhas')\n",
            "('Biblioteca_Central_da_Marinha', ' ( ', 'BCM')\n",
            "('México', ' prendassessor de deputado do pri; das agências_internacionais; a polícia mexicana prendeu ontem um funcionario da câmara por suspeita de envolvimento no assassinato do secretario-geral do partido_revolucionario_institucional ( ', 'PRI')\n",
            "('José_Sócrates', ' primeiro-ministro português e presidente em exercício da ', 'União_Europeia')\n",
            "('Lusa', ' tentou contactar o porta-voz da ', 'ASAE')\n",
            "('Núcleo_Interactivo_de_Astronomia', ' ( nuclio) no ', 'Centro_de_Interpretação_Ambiental_da_Ponta_do_Sal')\n",
            "('Departamento_Municipal_de_Limpeza_Urbana', ' de ', 'Porto_Alegre')\n",
            "('DMLU', ' o ', 'Departamento_Municipal_de_Limpeza_Urbana')\n",
            "('Fernando_Rodríguez_González', ' assessor do deputado manuel_muoz_rocha do ', 'PRI')\n",
            "('Manuel_Muoz_Rocha', ' do ', 'PRI')\n",
            "('Granada', '; granada não enfrentou os ', 'Reis_Católicos')\n",
            "('CCB', ' apresentou a o público de ', 'Lisboa')\n",
            "('Israel', ' sabendo que não pode devolver a ', 'Cisjordânia')\n",
            "('Dublin', ' a maior é a ', 'Eason_and_Son')\n",
            "('Waterford', ' visite a fabrica de cristais waterford ( ', 'Waterford')\n",
            "('António_Nunes', ' presidente da ', 'Autoridade_de_Segurança_Alimentar_e_Económica')\n",
            "('CBKC', ' ( confederação_brasileira_de_cinofilia) órgão filiado a o ', 'FCI')\n",
            "('CICA_1', ' liderada pelo tenente-coronel carlos_azeredo toma o ', 'Quartel_General_da_Região_Militar_do_Porto')\n",
            "('Norte', ' uma força do ', 'CICA_1')\n",
            "('Abraço', ' é uma ', 'Instituição_Particular_de_Solidariedade_Social')\n",
            "('Presidência', ' do ', 'PE')\n",
            "('Portugal', ' encontrou-se em posição extremamente débil pois a ameaça da ', 'Espanha')\n",
            "('Departamento_de_Cultura_Científica_do_Centro_Acadêmico_Pereira_Barretto', ' ( dcc/capb) órgão responsavel pelarepresentação e encaminhamento científico dos alunos da ', 'UNIFESP/EPM')\n",
            "('Falintil', ' - forcas_de_defesa_de_timor-leste da ', 'Polícia_Nacional_de_Timor-Leste')\n",
            "('Corpo_Nacional_de_Escutas', ' ( cne) atribuiu ontna a ', 'Câmara_de_Santo_Tirso')\n",
            "('Força_Internacional_de_Assistência_e_Segurança', ' ( isaf) constitui a ', 'Força_de_Reacção_Rápida_do_Comandante')\n",
            "('ISAF', ') constitui a ', 'Força_de_Reacção_Rápida_do_Comandante')\n",
            "('Estados_Membros', ' estão a ignorar as leis da ', 'UE')\n",
            "('Estados_Membros', ' estão a ignorar as leis da ue em matéria de segurança marítima e não se trata apenas da ', 'Grécia')\n"
          ],
          "name": "stdout"
        }
      ]
    },
    {
      "cell_type": "code",
      "metadata": {
        "id": "fyXTm5jSGuaO",
        "colab_type": "code",
        "colab": {}
      },
      "source": [
        "#import joblib\n",
        "#from nltk import word_tokenize\n",
        "\n",
        "#teste_tagger = joblib.load('POS_tagger_brill.pkl')\n",
        "#phrase = 'estão a ignorar as leis da ue em materia de seguranca maritima e nao se trata apenas da'\n",
        "#tager = teste_tagger.tag(word_tokenize(phrase))"
      ],
      "execution_count": 0,
      "outputs": []
    },
    {
      "cell_type": "code",
      "metadata": {
        "id": "MmwyqhtgOAdG",
        "colab_type": "code",
        "colab": {}
      },
      "source": [
        "#print(tager)"
      ],
      "execution_count": 0,
      "outputs": []
    },
    {
      "cell_type": "code",
      "metadata": {
        "id": "R2eGbB-icbty",
        "colab_type": "code",
        "outputId": "0e753263-f027-48e9-b5d9-747810791802",
        "colab": {
          "base_uri": "https://localhost:8080/",
          "height": 289
        }
      },
      "source": [
        "!pip install spacy\n"
      ],
      "execution_count": 161,
      "outputs": [
        {
          "output_type": "stream",
          "text": [
            "Requirement already satisfied: spacy in /usr/local/lib/python3.6/dist-packages (2.1.9)\n",
            "Requirement already satisfied: numpy>=1.15.0 in /usr/local/lib/python3.6/dist-packages (from spacy) (1.17.3)\n",
            "Requirement already satisfied: cymem<2.1.0,>=2.0.2 in /usr/local/lib/python3.6/dist-packages (from spacy) (2.0.2)\n",
            "Requirement already satisfied: blis<0.3.0,>=0.2.2 in /usr/local/lib/python3.6/dist-packages (from spacy) (0.2.4)\n",
            "Requirement already satisfied: srsly<1.1.0,>=0.0.6 in /usr/local/lib/python3.6/dist-packages (from spacy) (0.2.0)\n",
            "Requirement already satisfied: plac<1.0.0,>=0.9.6 in /usr/local/lib/python3.6/dist-packages (from spacy) (0.9.6)\n",
            "Requirement already satisfied: wasabi<1.1.0,>=0.2.0 in /usr/local/lib/python3.6/dist-packages (from spacy) (0.4.0)\n",
            "Requirement already satisfied: requests<3.0.0,>=2.13.0 in /usr/local/lib/python3.6/dist-packages (from spacy) (2.21.0)\n",
            "Requirement already satisfied: preshed<2.1.0,>=2.0.1 in /usr/local/lib/python3.6/dist-packages (from spacy) (2.0.1)\n",
            "Requirement already satisfied: thinc<7.1.0,>=7.0.8 in /usr/local/lib/python3.6/dist-packages (from spacy) (7.0.8)\n",
            "Requirement already satisfied: murmurhash<1.1.0,>=0.28.0 in /usr/local/lib/python3.6/dist-packages (from spacy) (1.0.2)\n",
            "Requirement already satisfied: urllib3<1.25,>=1.21.1 in /usr/local/lib/python3.6/dist-packages (from requests<3.0.0,>=2.13.0->spacy) (1.24.3)\n",
            "Requirement already satisfied: idna<2.9,>=2.5 in /usr/local/lib/python3.6/dist-packages (from requests<3.0.0,>=2.13.0->spacy) (2.8)\n",
            "Requirement already satisfied: certifi>=2017.4.17 in /usr/local/lib/python3.6/dist-packages (from requests<3.0.0,>=2.13.0->spacy) (2019.9.11)\n",
            "Requirement already satisfied: chardet<3.1.0,>=3.0.2 in /usr/local/lib/python3.6/dist-packages (from requests<3.0.0,>=2.13.0->spacy) (3.0.4)\n",
            "Requirement already satisfied: tqdm<5.0.0,>=4.10.0 in /usr/local/lib/python3.6/dist-packages (from thinc<7.1.0,>=7.0.8->spacy) (4.28.1)\n"
          ],
          "name": "stdout"
        }
      ]
    },
    {
      "cell_type": "code",
      "metadata": {
        "id": "64Zxs_xDcfSb",
        "colab_type": "code",
        "outputId": "528dc349-d5ff-47c0-ffe1-0be4188226da",
        "colab": {
          "base_uri": "https://localhost:8080/",
          "height": 275
        }
      },
      "source": [
        "!python -m spacy download pt\n",
        "!python -m spacy download en"
      ],
      "execution_count": 162,
      "outputs": [
        {
          "output_type": "stream",
          "text": [
            "Requirement already satisfied: pt_core_news_sm==2.1.0 from https://github.com/explosion/spacy-models/releases/download/pt_core_news_sm-2.1.0/pt_core_news_sm-2.1.0.tar.gz#egg=pt_core_news_sm==2.1.0 in /usr/local/lib/python3.6/dist-packages (2.1.0)\n",
            "\u001b[38;5;2m✔ Download and installation successful\u001b[0m\n",
            "You can now load the model via spacy.load('pt_core_news_sm')\n",
            "\u001b[38;5;2m✔ Linking successful\u001b[0m\n",
            "/usr/local/lib/python3.6/dist-packages/pt_core_news_sm -->\n",
            "/usr/local/lib/python3.6/dist-packages/spacy/data/pt\n",
            "You can now load the model via spacy.load('pt')\n",
            "Requirement already satisfied: en_core_web_sm==2.1.0 from https://github.com/explosion/spacy-models/releases/download/en_core_web_sm-2.1.0/en_core_web_sm-2.1.0.tar.gz#egg=en_core_web_sm==2.1.0 in /usr/local/lib/python3.6/dist-packages (2.1.0)\n",
            "\u001b[38;5;2m✔ Download and installation successful\u001b[0m\n",
            "You can now load the model via spacy.load('en_core_web_sm')\n",
            "\u001b[38;5;2m✔ Linking successful\u001b[0m\n",
            "/usr/local/lib/python3.6/dist-packages/en_core_web_sm -->\n",
            "/usr/local/lib/python3.6/dist-packages/spacy/data/en\n",
            "You can now load the model via spacy.load('en')\n"
          ],
          "name": "stdout"
        }
      ]
    },
    {
      "cell_type": "code",
      "metadata": {
        "id": "1kt6QMgmeewB",
        "colab_type": "code",
        "colab": {}
      },
      "source": [
        "import spacy\n",
        "nlp = spacy.load('pt')"
      ],
      "execution_count": 0,
      "outputs": []
    },
    {
      "cell_type": "code",
      "metadata": {
        "id": "Fwr7Ckjdekvg",
        "colab_type": "code",
        "colab": {}
      },
      "source": [
        "doc = nlp(u'estão a ignorar as leis da')"
      ],
      "execution_count": 0,
      "outputs": []
    },
    {
      "cell_type": "code",
      "metadata": {
        "id": "QdzeLEYFfC1W",
        "colab_type": "code",
        "colab": {}
      },
      "source": [
        "my_list = [(token.orth_, token.pos_) for token in doc]"
      ],
      "execution_count": 0,
      "outputs": []
    },
    {
      "cell_type": "code",
      "metadata": {
        "id": "6RMXJXEtjehz",
        "colab_type": "code",
        "outputId": "cfe67772-e1d6-431e-b011-fa5bc627ed81",
        "colab": {
          "base_uri": "https://localhost:8080/",
          "height": 34
        }
      },
      "source": [
        "print(my_list)"
      ],
      "execution_count": 166,
      "outputs": [
        {
          "output_type": "stream",
          "text": [
            "[('estão', 'AUX'), ('a', 'ADP'), ('ignorar', 'VERB'), ('as', 'DET'), ('leis', 'NOUN'), ('da', 'ADJ')]\n"
          ],
          "name": "stdout"
        }
      ]
    },
    {
      "cell_type": "code",
      "metadata": {
        "id": "0KTsYBAFfGjJ",
        "colab_type": "code",
        "outputId": "40620896-198e-44b5-c379-a1dc45c878ec",
        "colab": {
          "base_uri": "https://localhost:8080/",
          "height": 34
        }
      },
      "source": [
        "verb = \"<ADV>*<AUX>*<VERB><PART>*<ADV>*|<NOUN|PROPN>*\"\n",
        "word = \"<NOUN|ADJ|ADV|DET|ADP>\"\n",
        "preposition = \"<ADP|ADJ>\"\n",
        "\n",
        "rel_pattern = \"( %s (%s* (%s)+ )? )+ \" % (verb, word, preposition)\n",
        "grammar_long = '''REL_PHRASE: {%s}''' % rel_pattern\n",
        "\n",
        "print (grammar_long)\n",
        "reverb_pattern = nltk.RegexpParser(grammar_long)"
      ],
      "execution_count": 167,
      "outputs": [
        {
          "output_type": "stream",
          "text": [
            "REL_PHRASE: {( <ADV>*<AUX>*<VERB><PART>*<ADV>*|<NOUN|PROPN>* (<NOUN|ADJ|ADV|DET|ADP>* (<ADP|ADJ>)+ )? )+ }\n"
          ],
          "name": "stdout"
        }
      ]
    },
    {
      "cell_type": "code",
      "metadata": {
        "id": "UX7EWtT_iQQ0",
        "colab_type": "code",
        "colab": {}
      },
      "source": [
        "rel = reverb_pattern.parse(my_list)"
      ],
      "execution_count": 0,
      "outputs": []
    },
    {
      "cell_type": "code",
      "metadata": {
        "id": "AzAus2AFieob",
        "colab_type": "code",
        "outputId": "7c5f0074-21c7-47f8-c7fe-b92ff993bf08",
        "colab": {
          "base_uri": "https://localhost:8080/",
          "height": 34
        }
      },
      "source": [
        "print(rel)"
      ],
      "execution_count": 169,
      "outputs": [
        {
          "output_type": "stream",
          "text": [
            "(S estão/AUX (REL_PHRASE a/ADP ignorar/VERB as/DET leis/NOUN da/ADJ))\n"
          ],
          "name": "stdout"
        }
      ]
    },
    {
      "cell_type": "code",
      "metadata": {
        "id": "vQBgUmoujoHk",
        "colab_type": "code",
        "outputId": "a81a76a3-93da-4b07-b8f9-b353bd1c8e36",
        "colab": {
          "base_uri": "https://localhost:8080/",
          "height": 34
        }
      },
      "source": [
        "rel_phrase = \"\"\n",
        "for x in rel:\n",
        "  if isinstance(x, nltk.Tree) and x.label() == 'REL_PHRASE':\n",
        "    print(x)\n",
        "    rel_phrase = \" \".join([t[0] for t in x.leaves()])"
      ],
      "execution_count": 170,
      "outputs": [
        {
          "output_type": "stream",
          "text": [
            "(REL_PHRASE a/ADP ignorar/VERB as/DET leis/NOUN da/ADJ)\n"
          ],
          "name": "stdout"
        }
      ]
    },
    {
      "cell_type": "code",
      "metadata": {
        "id": "Kc2XBI4aj0GT",
        "colab_type": "code",
        "outputId": "e61a4203-952e-4424-8a58-e43d478440a9",
        "colab": {
          "base_uri": "https://localhost:8080/",
          "height": 34
        }
      },
      "source": [
        "print(rel_phrase)"
      ],
      "execution_count": 171,
      "outputs": [
        {
          "output_type": "stream",
          "text": [
            "a ignorar as leis da\n"
          ],
          "name": "stdout"
        }
      ]
    },
    {
      "cell_type": "code",
      "metadata": {
        "id": "zhrDBSdej2aJ",
        "colab_type": "code",
        "outputId": "07244e02-7bbe-4f7e-9bf6-dba85c43d809",
        "colab": {
          "base_uri": "https://localhost:8080/",
          "height": 1000
        }
      },
      "source": [
        "for go in gold:\n",
        "  #print((go.getArg1().getName(),go.getRel(),go.getArg2().getName()))\n",
        "  string = go.getRel()\n",
        "  string.encode('utf-8')\n",
        "  doc = nlp(string)\n",
        "  #print(doc)\n",
        "  my_list = [(token.orth_, token.pos_) for token in doc]\n",
        "  rel = reverb_pattern.parse(my_list)\n",
        "  rel_phrase = \"\"\n",
        "  my_phrases  = []\n",
        "  for x in rel:\n",
        "    if isinstance(x, nltk.Tree) and x.label() == 'REL_PHRASE':\n",
        "     # print(x)\n",
        "      rel_phrase = \"\"\n",
        "      rel_phrase = \" \".join([t[0] for t in x.leaves()])\n",
        "      my_phrases.append(rel_phrase)\n",
        "  #print(my_phrases)\n",
        "  if len(my_phrases)>0:\n",
        "    relation = max(my_phrases,key=len)\n",
        "  else:\n",
        "    relation = \" \"\n",
        "  print((go.getArg1().getName(),relation,go.getArg2().getName()))"
      ],
      "execution_count": 172,
      "outputs": [
        {
          "output_type": "stream",
          "text": [
            "('Marcelo_Tejedor', 'paleontólogo da', 'Universidade_Nacional_da_Patagônia')\n",
            "('John_Clapham', 'da empresa farmacêutica', 'Smith_Kline_Beecham')\n",
            "('Associação_Nacional_de_Biossegurança', ' ', 'ANBio')\n",
            "('CTNBio', ' ', 'Comissão_Técnica_Nacional_de_Biossegurança')\n",
            "('ministro_Roberto_Amaral', ' ', 'Ciência_e_Tecnologia')\n",
            "('USP', ' ', 'Universidade_de_São_Paulo')\n",
            "('Francelino_Grando', 'secretario_de_política_tecnológica_empresarial', 'MCT')\n",
            "('secretário_de_Política_Tecnológica_Empresarial', ' ', 'MCT')\n",
            "('MCT', ' ', 'Ministério_da_Ciência_e_Tecnologia')\n",
            "('Gilberto_Maggioni', ' ', 'PMN')\n",
            "('Painel_Intergovernamental_de_Mudança_Climática', 'órgão da', 'ONU')\n",
            "('Gilson_Rambelli', 'flavio_rizzi pesquisadores', 'Museu_de_Arqueologia_e_Etnologia')\n",
            "('Flávio_Rizzi', 'pesquisadores', 'Museu_de_Arqueologia_e_Etnologia')\n",
            "('Museu_de_Arqueologia_e_Etnologia', ' ', 'MAE')\n",
            "('Museu_de_Arqueologia_e_Etnologia', 'mae', 'USP')\n",
            "('MAE', 'da', 'USP')\n",
            "('Paulo_Bava_de_Camargo', 'flavio_rizzi pesquisadores', 'Museu_de_Arqueologia_e_Etnologia')\n",
            "('Gilson_Rambelli', 'flavio_rizzi pesquisadores do museu_de_arqueologia_e_etnologia', 'MAE')\n",
            "('Paulo_Bava_de_Camargo', 'flavio_rizzi pesquisadores do museu darqueologia', 'MAE')\n",
            "('Flávio_Rizzi', 'pesquisadores do museu darqueologia', 'MAE')\n",
            "('Gilson_Rambelli', 'flavio_rizzi pesquisadores do museu darqueologia', 'USP')\n",
            "('Paolo_Zanotto', ' ', 'USP')\n",
            "('Institutos_Nacionais_de_Saúde', ' ', 'NIH')\n",
            "('Institutos_Nacionais_de_Saúde', 'nih', 'EUA')\n",
            "('NIH', 'dos', 'EUA')\n",
            "('Teresa_Peret', 'dos', 'CDC')\n",
            "('CDC', ' ', 'Centros_para_Controle_e_Prevenção_de_Doenças')\n",
            "('CDC', 'centros_para_controle_e_prevenção_de_doenças', 'EUA')\n",
            "('Centros_para_Controle_e_Prevenção_de_Doenças', 'dos', 'EUA')\n",
            "('Teresa_Peret', 'dos cdc', 'Centros_para_Controle_e_Prevenção_de_Doenças')\n",
            "('Greg_Laden', ' ', 'Universidade_de_Minnesota')\n",
            "('Richard_Wrangham', ' ', 'Universidade_Harvard')\n",
            "('ONU', ' ', 'Organização_das_Nações_Unidas')\n",
            "('Charles_Vörösmarty', ' ', 'Universidade_de_New_Hampshire')\n",
            "('Universidade_de_New_Hampshire', 'nos', 'Estados_Unidos')\n",
            "('José_Galizia_Tundisi', ' ', 'Instituto_Internacional_de_Ecologia')\n",
            "('Instituto_Internacional_de_Ecologia', 'em', 'São_Carlos')\n",
            "('Instituto_Internacional_de_Ecologia', 'em são_carlos', 'SP')\n",
            "('Universidade_de_Michigan', 'em', 'Ann_Arbor')\n",
            "('Universidade_de_Michigan', 'nann_arbor nos', 'Estados_Unidos')\n",
            "('Zôo', 'de', 'San_Diego')\n",
            "('Mark_Mattson', ' ', 'Instituto_Nacional_do_Envelhecimentos')\n",
            "('Instituto_Nacional_do_Envelhecimentos', 'dos', 'EUA')\n",
            "('Benjamin_Wolozin', ' ', 'Centro_Médico_da_Universidade_Loyola')\n",
            "('Centro_Médico_da_Universidade_Loyola', ' ', 'Chicago')\n",
            "('Centro_Médico_da_Universidade_Loyola', 'chicago', 'EUA')\n",
            "('César_Ades', ' ', 'USP')\n",
            "('Imperial_College', 'em', 'Londres')\n",
            "('Academia_de_Ciências', 'dos', 'EUA')\n",
            "('Schuyler_Korban', ' ', 'Universidade_de_Illinois')\n",
            "('Universidade_de_Illinois', ' ', 'EUA')\n",
            "('CNPq', ' ', 'Conselho_Nacional_de_Desenvolvimento_Científico_e_Tecnológico')\n",
            "('Fapesp', ' ', 'Fundação_de_Amparo_à_Pesquisa_do_Estado_de_São_Paulo')\n",
            "('Universidade_MacMaster', ' ', 'Canadá')\n",
            "('Douglas_Revelle', ' ', 'Laboratório_Nacional_de_Los_Alamos')\n",
            "('Robert_Jedicke', ' ', 'Universidade_do_Arizona')\n",
            "('Selvaplac', 'subsidiaria brasileira de um grupo da', 'Malásia')\n",
            "('Moncef_Kaabi', ' ', 'Natixis')\n",
            "('PCP', 'a comissão_concelhia_de _', 'Braga')\n",
            "('Estância_de_Cinco_Estrelas_Martino', 'é o lugar mais conveniente para', 'Costa_Rica')\n",
            "('Sarajevo', 'como último recurso para defender', 'ONU')\n",
            "('Rússia', 'vai apoiar uma ação da', 'Otan')\n",
            "('Cooperativa_de_Agricultores', ' ', 'Região_de_Maués')\n",
            "('Creative_Commons', ' ', 'Brasil')\n",
            "('Ronaldo_Lemos', 'diretor', 'Creative_Commons')\n",
            "('Conselho_Europeu_Metodista', 'passado mês de setembro em', 'Stuttgart')\n",
            "('World_Alliance_of_Reformed_Churches', 'condena', 'Iraque')\n",
            "('Fernando_Gomes', 'presidente da', 'Câmara_Municipal_do_Porto')\n",
            "('Sales_Marques', 'presidente', 'Leal_Senado')\n",
            "('Parlamento', 'no seguimento da sua magnífica declaração', 'Israel')\n",
            "('Parlamento', 'pronunciou a favor do retorno da paz em israel', 'Próximo_Oriente')\n",
            "('Sangatte', 'aberto pelo', 'Governo')\n",
            "('Sangatte', 'aberto pelo governo francês', 'Cruz_Vermelha')\n",
            "('Sesimbra', 'preparam-se para o fim da década quando tiverem como grande cliente a fabrica da', 'Ford/Volkswagen')\n",
            "('Setúbal', 'sesimbra preparam-se para o fim da década quando tiverem como grande cliente a fabrica da', 'Ford/Volkswagen')\n",
            "('Joint_Non-Lethal_Weapons_Program', 'jnlwp', 'Pentágono')\n",
            "('JNLWP', ' ', 'Pentágono')\n",
            "('Joint_Non-Lethal_Weapons_Program', ' ', 'JNLWP')\n",
            "('Vítor_Constâncio', 'frente', 'PS')\n",
            "('Parlamento_Europeu', 'da presidência portuguesa da', 'UE')\n",
            "('Durão_Barroso', 'discursava na sessão plenaria extraordinaria', 'Parlamento_Europeu')\n",
            "('Sócrates', 'como a decisão de criar', 'Instituto_Europeu_de_Tecnologia')\n",
            "('Hans-Gert_PÖTTERING', 'destacou ainda a importância para', 'PE')\n",
            "('Martin_SCHULZ', 'pse de', 'PSE')\n",
            "('Francis_WURTZ', ' ', 'CEUE/EVN')\n",
            "('António_Fontes', ' ', 'AIPAN')\n",
            "('Casa_de_Cinema', 'de', 'Porto_Alegre')\n",
            "('Ferro-Têxtil', 'foi licenciada pelo', 'Ministério_da_Indústria')\n",
            "('Ministério_da_Indústria', ' ', 'Governo')\n",
            "('Arábia_Saudita', 'reconheciam', 'Talibã')\n",
            "('Arábia_Saudita', 'reconheciam', 'Afeganistão')\n",
            "('Afeganistão', 'governo', 'Talibã')\n",
            "('Christina_Eisenberg', 'trabalha para', 'Serviço_Americano_de_Vida_Selvagem_e_Aquática')\n",
            "('Almeida_Henriques', 'presidente da', 'Associação_Industrial_da_Região_de_Viseu')\n",
            "('Almeida_Henriques', 'presidente da associação_industrial_da_região_de_viseu', 'Conselho_Empresarial_do_Centro')\n",
            "('Jornal_do_Nikkey', 'esteve pesquisando um lado gostoso da liberdade em', 'São_Paulo')\n",
            "('Matthew_Battles', 'editor do boletim da', 'Biblioteca_Houghton')\n",
            "('CICA_1', 'liderada pelo', 'Tenente-Coronel_Carlos_Azeredo')\n",
            "('Inglaterra', 'em', 'Portugal')\n",
            "('Rudy_Giuliani', 'ja foi presidente da', 'Câmara')\n",
            "('Comissão_de_Controle_e_Gestão_Fiscal', ' ', 'Ministério_da_Fazenda')\n",
            "('Comissão_de_Controle_e_Gestão_Fiscal', 'diario_oficial uma recomendação a', 'Ministério_de_Orçamento_e_Gestão')\n",
            "('Dr._José_Getúlio_Lima', 'atuou muito na area educacional da região tendo sido o fundador entre outros do ginasio', 'Conselheiro_Lafayette')\n",
            "('Legião_da_Boa_Vontade', 'instituição educacional cultural beneficente', 'Brasil')\n",
            "('Legião_da_Boa_Vontade', 'filantrópica foi fundada no brasil pelo jornalista radialista', 'Alziro_Zarur')\n",
            "('António_Ribeiro', 'em declarações a', 'Público')\n",
            "('Saraiva_Dias', 'vereador substituto do presidente da autarquia referiu a', 'Público')\n",
            "('Helena_Roseta', 'próximas eleições intercalares para', 'Câmara_de_Lisboa')\n",
            "('Carmona_Rodrigues', 'nas próximas eleições intercalares para', 'Câmara_de_Lisboa')\n",
            "('Amílcar_Cabral', 'criou', 'Partido_Africano_para_a_Independência_da_Guiné_e_Cabo_Verde')\n",
            "('Amílcar_Cabral', 'partido_africano_para_a_independência_da_guiné_e_cabo_verde', 'PAIGC')\n",
            "('Partido_Africano_para_a_Independência_da_Guiné_e_Cabo_Verde', ' ', 'PAIGC')\n",
            "('Cedima/IRM', 'montepio das', 'Caldas_da_Rainha')\n",
            "('Montepio', 'das', 'Caldas_da_Rainha')\n",
            "('Pp', 'o be nalguns casos mesmo alguns raros dissidentes do ps socratico têm criticado', 'Governo')\n",
            "('PCP', 'o be nalguns casos mesmo alguns raros dissidentes do ps socratico têm criticado', 'Governo')\n",
            "('Be', 'nalguns casos mesmo alguns raros dissidentes do ps socratico têm criticado', 'Governo')\n",
            "('PSD', 'murmurando umas críticas de circunstância', 'Governo')\n",
            "('PSD', 'murmurando umas críticas de circunstância', 'PS')\n",
            "('PSD', ' ', 'PS')\n",
            "('Biblioteca_Central_da_Marinha', 'é sucessora da antiga', 'Biblioteca_da_Real_Academia_dos_Guardas-Marinhas')\n",
            "('Biblioteca_Central_da_Marinha', ' ', 'BCM')\n",
            "('México', 'a polícia mexicana prendeu ontem um funcionario da câmara por suspeita de envolvimento', 'PRI')\n",
            "('José_Sócrates', 'primeiro-ministro português', 'União_Europeia')\n",
            "('Lusa', 'tentou contactar o porta-voz da', 'ASAE')\n",
            "('Núcleo_Interactivo_de_Astronomia', 'nuclio', 'Centro_de_Interpretação_Ambiental_da_Ponta_do_Sal')\n",
            "('Departamento_Municipal_de_Limpeza_Urbana', 'de', 'Porto_Alegre')\n",
            "('DMLU', ' ', 'Departamento_Municipal_de_Limpeza_Urbana')\n",
            "('Fernando_Rodríguez_González', 'assessor do deputado manuel_muoz_rocha', 'PRI')\n",
            "('Manuel_Muoz_Rocha', ' ', 'PRI')\n",
            "('Granada', 'granada não enfrentou', 'Reis_Católicos')\n",
            "('CCB', 'apresentou a o público de', 'Lisboa')\n",
            "('Israel', 'não pode devolver a', 'Cisjordânia')\n",
            "('Dublin', 'a maior é a', 'Eason_and_Son')\n",
            "('Waterford', 'visite a fabrica de cristais waterford', 'Waterford')\n",
            "('António_Nunes', 'presidente da', 'Autoridade_de_Segurança_Alimentar_e_Económica')\n",
            "('CBKC', 'confederação_brasileira_de_cinofilia', 'FCI')\n",
            "('CICA_1', 'liderada pelo tenente-coronel carlos_azeredo toma', 'Quartel_General_da_Região_Militar_do_Porto')\n",
            "('Norte', 'força', 'CICA_1')\n",
            "('Abraço', 'é', 'Instituição_Particular_de_Solidariedade_Social')\n",
            "('Presidência', ' ', 'PE')\n",
            "('Portugal', 'encontrou-se em posição extremamente débil', 'Espanha')\n",
            "('Departamento_de_Cultura_Científica_do_Centro_Acadêmico_Pereira_Barretto', 'encaminhamento científico dos alunos da', 'UNIFESP/EPM')\n",
            "('Falintil', 'forcas_de_defesa_de_timor-leste da', 'Polícia_Nacional_de_Timor-Leste')\n",
            "('Corpo_Nacional_de_Escutas', 'atribuiu ontna a', 'Câmara_de_Santo_Tirso')\n",
            "('Força_Internacional_de_Assistência_e_Segurança', 'constitui a', 'Força_de_Reacção_Rápida_do_Comandante')\n",
            "('ISAF', 'constitui a', 'Força_de_Reacção_Rápida_do_Comandante')\n",
            "('Estados_Membros', 'a ignorar as leis da', 'UE')\n",
            "('Estados_Membros', 'a ignorar as leis da ue em matéria de segurança marítima', 'Grécia')\n"
          ],
          "name": "stdout"
        }
      ]
    }
  ]
}